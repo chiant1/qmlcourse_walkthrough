{
 "cells": [
  {
   "cell_type": "code",
   "execution_count": 1,
   "id": "7307ba9d",
   "metadata": {},
   "outputs": [],
   "source": [
    "import pennylane as qml\n",
    "from pennylane import numpy as np"
   ]
  },
  {
   "cell_type": "code",
   "execution_count": 2,
   "id": "ed7a2fe2",
   "metadata": {},
   "outputs": [],
   "source": [
    "device = qml.device('default.qubit', wires=2)"
   ]
  },
  {
   "cell_type": "code",
   "execution_count": 3,
   "id": "a0eb95fe",
   "metadata": {},
   "outputs": [
    {
     "name": "stdout",
     "output_type": "stream",
     "text": [
      "0.7071067811865475\n"
     ]
    }
   ],
   "source": [
    "@qml.qnode(device)\n",
    "def test(angle):\n",
    "    qml.RY(angle, wires=0)\n",
    "    return qml.expval(qml.PauliZ(0) @ qml.PauliZ(1))\n",
    "\n",
    "print(test(np.deg2rad(45)))"
   ]
  },
  {
   "cell_type": "code",
   "execution_count": 4,
   "id": "0574844e",
   "metadata": {},
   "outputs": [],
   "source": [
    "device = qml.device('default.qubit', shots=10000, wires=2)"
   ]
  },
  {
   "cell_type": "code",
   "execution_count": 5,
   "id": "1c3224c7",
   "metadata": {},
   "outputs": [
    {
     "data": {
      "text/plain": [
       "tensor([0.499, 0.   , 0.   , 0.501], requires_grad=False)"
      ]
     },
     "execution_count": 5,
     "metadata": {},
     "output_type": "execute_result"
    }
   ],
   "source": [
    "def make_entanglement():\n",
    "    qml.Hadamard(wires=0)\n",
    "    qml.CNOT(wires=[0, 1])\n",
    "    return qml.probs(wires=[0, 1])\n",
    "\n",
    "circuit = qml.QNode(make_entanglement, device)\n",
    "circuit()"
   ]
  },
  {
   "cell_type": "code",
   "execution_count": 6,
   "id": "61f0703c",
   "metadata": {},
   "outputs": [
    {
     "data": {
      "text/plain": [
       "tensor([0.2553, 0.244 , 0.2543, 0.2464], requires_grad=False)"
      ]
     },
     "execution_count": 6,
     "metadata": {},
     "output_type": "execute_result"
    }
   ],
   "source": [
    "@qml.qnode(device)\n",
    "def circuit():\n",
    "    qml.Hadamard(wires=0)\n",
    "    qml.CNOT(wires=[0, 1])\n",
    "    qml.CNOT(wires=[1, 0])\n",
    "    qml.Hadamard(wires=0)\n",
    "    return qml.probs(wires=[0, 1])\n",
    "\n",
    "circuit()"
   ]
  },
  {
   "cell_type": "code",
   "execution_count": 7,
   "id": "7bcf757e",
   "metadata": {},
   "outputs": [
    {
     "name": "stdout",
     "output_type": "stream",
     "text": [
      " 0: ──H──╭C──╭X──H──╭┤ Probs \n",
      " 1: ─────╰X──╰C─────╰┤ Probs \n",
      "\n"
     ]
    }
   ],
   "source": [
    "print (circuit.draw())"
   ]
  },
  {
   "cell_type": "code",
   "execution_count": 8,
   "id": "29e5a7bd",
   "metadata": {},
   "outputs": [],
   "source": [
    "U = np.array([[1, 0, 0, 0], \n",
    "              [0, 0, 1, 0], \n",
    "              [0, 1, 0, 0], \n",
    "              [0, 0, 0, 1]])"
   ]
  },
  {
   "cell_type": "code",
   "execution_count": null,
   "id": "bf4650cc",
   "metadata": {},
   "outputs": [],
   "source": []
  }
 ],
 "metadata": {
  "kernelspec": {
   "display_name": "Python 3 (ipykernel)",
   "language": "python",
   "name": "python3"
  },
  "language_info": {
   "codemirror_mode": {
    "name": "ipython",
    "version": 3
   },
   "file_extension": ".py",
   "mimetype": "text/x-python",
   "name": "python",
   "nbconvert_exporter": "python",
   "pygments_lexer": "ipython3",
   "version": "3.8.12"
  }
 },
 "nbformat": 4,
 "nbformat_minor": 5
}
