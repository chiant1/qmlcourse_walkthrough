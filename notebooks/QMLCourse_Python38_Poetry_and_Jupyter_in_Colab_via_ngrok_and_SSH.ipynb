{
 "cells": [
  {
   "cell_type": "markdown",
   "metadata": {
    "id": "9wHdmESwCHl1"
   },
   "source": [
    "# How it works?\n",
    "- We install Conda in Colab, then create conda environment with Python3.8 and Poetry\n",
    "- Then we run new Jupyter in conda + Poetry environment\n",
    "- Access to new Jupyter is done via ngrok.com SSH forwarding\n",
    "- In order for SSH forwarding to work smoothly and more or less securely I stored SSH configuration on Google Drive\n",
    "- You should configurate [SSH Public Keys](https://dashboard.ngrok.com/tunnel-agents/ssh-keys) on ngrok.com\n",
    "- Have a look at my SSH configuration below. Here\n",
    " - ```id_ed25519 / id_ed25519.pub``` - Private and public SSH-key for [Tunnel Agents](https://dashboard.ngrok.com/tunnel-agents/ssh-keys) in ngrok.com\n",
    " - ```config``` - SSH authentication for [Tunnel Agents](https://dashboard.ngrok.com/tunnel-agents/ssh-keys) in ngrok.com\n",
    " - ```authorized_keys``` - List of Public keys from my local machines"
   ]
  },
  {
   "cell_type": "code",
   "execution_count": 1,
   "metadata": {
    "colab": {
     "base_uri": "https://localhost:8080/"
    },
    "id": "Jb4KcFuKDwxQ",
    "outputId": "94cc739a-93cf-49a7-dc57-17a42022a5b3"
   },
   "outputs": [
    {
     "name": "stdout",
     "output_type": "stream",
     "text": [
      "authorized_keys  config  id_ed25519  id_ed25519.pub\n"
     ]
    }
   ],
   "source": [
    "! ls /content/drive/MyDrive/projects/qmlcourse/config/"
   ]
  },
  {
   "cell_type": "code",
   "execution_count": 2,
   "metadata": {
    "colab": {
     "base_uri": "https://localhost:8080/"
    },
    "id": "1_DTMDBYDJW6",
    "outputId": "a96d30a4-5c20-4a93-a0c0-4ab685b3bff9"
   },
   "outputs": [
    {
     "name": "stdout",
     "output_type": "stream",
     "text": [
      "Host *.ngrok.com\n",
      "  IdentityFile /content/drive/MyDrive/projects/qmlcourse/config/id_ed25519\n",
      "  StrictHostKeyChecking no\n"
     ]
    }
   ],
   "source": [
    "! cat /content/drive/MyDrive/projects/qmlcourse/config/config"
   ]
  },
  {
   "cell_type": "markdown",
   "metadata": {
    "id": "jz1xbk1iDFBA"
   },
   "source": [
    "# Configuration"
   ]
  },
  {
   "cell_type": "code",
   "execution_count": 3,
   "metadata": {
    "id": "UcYvA3tIa8dd"
   },
   "outputs": [],
   "source": [
    "SSH_CONFIG_DIR = \"/content/drive/MyDrive/projects/qmlcourse/config\"\n",
    "\n",
    "CONDA_ENVIRONMENT = \"qmlcourse\"\n",
    "CONDA_ENV_PATH = f\"/content/anaconda3/envs/{CONDA_ENVIRONMENT}\""
   ]
  },
  {
   "cell_type": "markdown",
   "metadata": {
    "id": "lvpARoYwQoa0"
   },
   "source": [
    "# Install Anaconda"
   ]
  },
  {
   "cell_type": "code",
   "execution_count": 4,
   "metadata": {
    "colab": {
     "base_uri": "https://localhost:8080/"
    },
    "id": "8-AyR5iqC-Uh",
    "outputId": "0e931373-c5ff-4e4e-96a4-5da433023282"
   },
   "outputs": [
    {
     "name": "stderr",
     "output_type": "stream",
     "text": [
      "\r  0%|          | 0/344 [00:00<?, ?it/s]\rExtracting : zope-1.0-py38_1.conda:   0%|          | 0/344 [00:00<?, ?it/s]\rExtracting : libllvm10-10.0.1-hbcb73fb_5.conda:   0%|          | 1/344 [00:00<04:57,  1.15it/s]\rExtracting : libllvm10-10.0.1-hbcb73fb_5.conda:   1%|          | 2/344 [00:00<02:28,  2.30it/s]\rExtracting : libffi-3.3-he6710b0_2.conda:   1%|          | 2/344 [00:00<02:28,  2.30it/s]      \rExtracting : diff-match-patch-20200713-py_0.conda:   1%|          | 3/344 [00:00<02:28,  2.30it/s]\rExtracting : path.py-12.5.0-0.conda:   1%|          | 4/344 [00:00<02:27,  2.30it/s]              \rExtracting : unixodbc-2.3.9-h7b6447c_0.conda:   1%|▏         | 5/344 [00:00<02:27,  2.30it/s]\rExtracting : appdirs-1.4.4-py_0.conda:   2%|▏         | 6/344 [00:00<02:26,  2.30it/s]       \rExtracting : heapdict-1.0.1-py_0.conda:   2%|▏         | 7/344 [00:00<02:26,  2.30it/s]\rExtracting : mistune-0.8.4-py38h7b6447c_1000.conda:   2%|▏         | 8/344 [00:00<02:25,  2.30it/s]\rExtracting : webencodings-0.5.1-py38_1.conda:   3%|▎         | 9/344 [00:00<02:25,  2.30it/s]      \rExtracting : dask-core-2021.4.0-pyhd3eb1b0_0.conda:   3%|▎         | 10/344 [00:00<02:25,  2.30it/s]\rExtracting : pyxdg-0.27-pyhd3eb1b0_0.conda:   3%|▎         | 11/344 [00:00<02:24,  2.30it/s]        \rExtracting : autopep8-1.5.6-pyhd3eb1b0_0.conda:   3%|▎         | 12/344 [00:00<02:24,  2.30it/s]\rExtracting : pandocfilters-1.4.3-py38h06a4308_1.conda:   4%|▍         | 13/344 [00:00<02:23,  2.30it/s]\rExtracting : sqlalchemy-1.4.15-py38h27cfd23_0.conda:   4%|▍         | 14/344 [00:00<02:23,  2.30it/s]  \rExtracting : nest-asyncio-1.5.1-pyhd3eb1b0_0.conda:   4%|▍         | 15/344 [00:00<02:22,  2.30it/s] \rExtracting : path-15.1.2-py38h06a4308_0.conda:   5%|▍         | 16/344 [00:00<02:22,  2.30it/s]     \rExtracting : backports-1.0-pyhd3eb1b0_2.conda:   5%|▍         | 17/344 [00:00<02:21,  2.30it/s]\rExtracting : yaml-0.2.5-h7b6447c_0.conda:   5%|▌         | 18/344 [00:01<02:21,  2.30it/s]     \rExtracting : yaml-0.2.5-h7b6447c_0.conda:   6%|▌         | 19/344 [00:01<01:39,  3.26it/s]\rExtracting : libev-4.33-h7b6447c_0.conda:   6%|▌         | 19/344 [00:01<01:39,  3.26it/s]\rExtracting : six-1.15.0-py38h06a4308_0.conda:   6%|▌         | 20/344 [00:01<01:39,  3.26it/s]\rExtracting : pylint-2.7.4-py38h06a4308_1.conda:   6%|▌         | 21/344 [00:01<01:38,  3.26it/s]\rExtracting : boto-2.49.0-py38_0.conda:   6%|▋         | 22/344 [00:01<01:38,  3.26it/s]         \rExtracting : boto-2.49.0-py38_0.conda:   7%|▋         | 23/344 [00:01<01:11,  4.48it/s]\rExtracting : widgetsnbextension-3.5.1-py38_0.conda:   7%|▋         | 23/344 [00:01<01:11,  4.48it/s]\rExtracting : glib-2.68.1-h36276a3_0.conda:   7%|▋         | 24/344 [00:01<01:11,  4.48it/s]         \rExtracting : qt-5.9.7-h5867ecd_1.conda:   7%|▋         | 25/344 [00:05<01:11,  4.48it/s]   \rExtracting : mpfr-4.0.2-hb69a4c5_1.conda:   8%|▊         | 26/344 [00:05<01:10,  4.48it/s]\rExtracting : mpfr-4.0.2-hb69a4c5_1.conda:   8%|▊         | 27/344 [00:05<02:23,  2.22it/s]\rExtracting : astroid-2.5-py38h06a4308_1.conda:   8%|▊         | 27/344 [00:05<02:23,  2.22it/s]\rExtracting : qtpy-1.9.0-py_0.conda:   8%|▊         | 28/344 [00:05<02:22,  2.22it/s]           \rExtracting : xz-5.2.5-h7b6447c_0.conda:   8%|▊         | 29/344 [00:05<02:22,  2.22it/s]\rExtracting : xlrd-2.0.1-pyhd3eb1b0_0.conda:   9%|▊         | 30/344 [00:05<02:21,  2.22it/s]\rExtracting : scikit-image-0.18.1-py38ha9443f7_0.conda:   9%|▉         | 31/344 [00:05<02:21,  2.22it/s]\rExtracting : regex-2021.4.4-py38h27cfd23_0.conda:   9%|▉         | 32/344 [00:05<02:20,  2.22it/s]     \rExtracting : jupyterlab_server-2.4.0-pyhd3eb1b0_0.conda:  10%|▉         | 33/344 [00:05<02:20,  2.22it/s]\rExtracting : conda-token-0.3.0-pyhd3eb1b0_0.conda:  10%|▉         | 34/344 [00:05<02:19,  2.22it/s]      \rExtracting : mypy_extensions-0.4.3-py38_0.conda:  10%|█         | 35/344 [00:05<02:19,  2.22it/s]  \rExtracting : attrs-20.3.0-pyhd3eb1b0_0.conda:  10%|█         | 36/344 [00:05<02:19,  2.22it/s]   \rExtracting : fastcache-1.1.0-py38h7b6447c_0.conda:  11%|█         | 37/344 [00:05<02:18,  2.22it/s]\rExtracting : mkl_fft-1.3.0-py38h42c9631_2.conda:  11%|█         | 38/344 [00:05<02:18,  2.22it/s]  \rExtracting : gmp-6.2.1-h2531618_2.conda:  11%|█▏        | 39/344 [00:05<02:17,  2.22it/s]        \rExtracting : statsmodels-0.12.2-py38h27cfd23_0.conda:  12%|█▏        | 40/344 [00:05<02:17,  2.22it/s]\rExtracting : pycosat-0.6.3-py38h7b6447c_1.conda:  12%|█▏        | 41/344 [00:05<02:16,  2.22it/s]     \rExtracting : typed-ast-1.4.2-py38h27cfd23_1.conda:  12%|█▏        | 42/344 [00:05<02:16,  2.22it/s]\rExtracting : prompt_toolkit-3.0.17-hd3eb1b0_0.conda:  12%|█▎        | 43/344 [00:05<02:15,  2.22it/s]\rExtracting : jeepney-0.6.0-pyhd3eb1b0_0.conda:  13%|█▎        | 44/344 [00:05<02:15,  2.22it/s]      \rExtracting : pango-1.45.3-hd140c19_0.conda:  13%|█▎        | 45/344 [00:05<02:14,  2.22it/s]   \rExtracting : pkginfo-1.7.0-py38h06a4308_0.conda:  13%|█▎        | 46/344 [00:05<02:14,  2.22it/s]\rExtracting : libstdcxx-ng-9.1.0-hdf63c60_0.conda:  14%|█▎        | 47/344 [00:05<02:14,  2.22it/s]\rExtracting : nltk-3.6.1-pyhd3eb1b0_0.conda:  14%|█▍        | 48/344 [00:05<02:13,  2.22it/s]      \rExtracting : qtconsole-5.0.3-pyhd3eb1b0_0.conda:  14%|█▍        | 49/344 [00:05<02:13,  2.22it/s]\rExtracting : pcre-8.44-he6710b0_0.conda:  15%|█▍        | 50/344 [00:05<02:12,  2.22it/s]        \rExtracting : fribidi-1.0.10-h7b6447c_0.conda:  15%|█▍        | 51/344 [00:05<02:12,  2.22it/s]\rExtracting : pysocks-1.7.1-py38h06a4308_0.conda:  15%|█▌        | 52/344 [00:05<02:11,  2.22it/s]\rExtracting : hdf5-1.10.4-hb1b8bf9_0.conda:  15%|█▌        | 53/344 [00:05<02:11,  2.22it/s]      \rExtracting : jupyter_console-6.4.0-pyhd3eb1b0_0.conda:  16%|█▌        | 54/344 [00:05<02:10,  2.22it/s]\rExtracting : bleach-3.3.0-pyhd3eb1b0_0.conda:  16%|█▌        | 55/344 [00:05<02:10,  2.22it/s]         \rExtracting : harfbuzz-2.8.0-h6f93f22_0.conda:  16%|█▋        | 56/344 [00:05<02:09,  2.22it/s]\rExtracting : libedit-3.1.20210216-h27cfd23_1.conda:  17%|█▋        | 57/344 [00:05<02:09,  2.22it/s]\rExtracting : decorator-5.0.6-pyhd3eb1b0_0.conda:  17%|█▋        | 58/344 [00:05<02:09,  2.22it/s]   \rExtracting : patsy-0.5.1-py38_0.conda:  17%|█▋        | 59/344 [00:05<02:08,  2.22it/s]          \rExtracting : bokeh-2.3.2-py38h06a4308_0.conda:  17%|█▋        | 60/344 [00:05<02:08,  2.22it/s]\rExtracting : bokeh-2.3.2-py38h06a4308_0.conda:  18%|█▊        | 61/344 [00:05<01:30,  3.12it/s]\rExtracting : threadpoolctl-2.1.0-pyh5ca1d4c_0.conda:  18%|█▊        | 61/344 [00:05<01:30,  3.12it/s]\rExtracting : fontconfig-2.13.1-h6c09931_0.conda:  18%|█▊        | 62/344 [00:05<01:30,  3.12it/s]    \rExtracting : brotlipy-0.7.0-py38h27cfd23_1003.conda:  18%|█▊        | 63/344 [00:05<01:30,  3.12it/s]\rExtracting : singledispatch-3.6.1-pyhd3eb1b0_1001.conda:  19%|█▊        | 64/344 [00:05<01:29,  3.12it/s]\rExtracting : networkx-2.5-py_0.conda:  19%|█▉        | 65/344 [00:05<01:29,  3.12it/s]                   \rExtracting : xlwt-1.3.0-py38_0.conda:  19%|█▉        | 66/344 [00:05<01:29,  3.12it/s]\rExtracting : ujson-4.0.2-py38h2531618_0.conda:  19%|█▉        | 67/344 [00:05<01:28,  3.12it/s]\rExtracting : jupyter_client-6.1.12-pyhd3eb1b0_0.conda:  20%|█▉        | 68/344 [00:05<01:28,  3.12it/s]\rExtracting : colorama-0.4.4-pyhd3eb1b0_0.conda:  20%|██        | 69/344 [00:05<01:28,  3.12it/s]       \rExtracting : curl-7.71.1-hbc83047_1.conda:  20%|██        | 70/344 [00:05<01:27,  3.12it/s]     \rExtracting : curl-7.71.1-hbc83047_1.conda:  21%|██        | 71/344 [00:05<01:02,  4.38it/s]\rExtracting : pyrsistent-0.17.3-py38h7b6447c_0.conda:  21%|██        | 71/344 [00:05<01:02,  4.38it/s]\rExtracting : pytest-6.2.3-py38h06a4308_2.conda:  21%|██        | 72/344 [00:05<01:02,  4.38it/s]     \rExtracting : terminado-0.9.4-py38h06a4308_0.conda:  21%|██        | 73/344 [00:05<01:01,  4.38it/s]\rExtracting : libwebp-base-1.2.0-h27cfd23_0.conda:  22%|██▏       | 74/344 [00:05<01:01,  4.38it/s] \rExtracting : zipp-3.4.1-pyhd3eb1b0_0.conda:  22%|██▏       | 75/344 [00:05<01:01,  4.38it/s]      \rExtracting : zipp-3.4.1-pyhd3eb1b0_0.conda:  22%|██▏       | 76/344 [00:05<00:44,  5.97it/s]\rExtracting : numpy-1.20.1-py38h93e21f0_0.conda:  22%|██▏       | 76/344 [00:05<00:44,  5.97it/s]\rExtracting : pyzmq-20.0.0-py38h2531618_1.conda:  22%|██▏       | 77/344 [00:05<00:44,  5.97it/s]\rExtracting : cython-0.29.23-py38h2531618_0.conda:  23%|██▎       | 78/344 [00:05<00:44,  5.97it/s]\rExtracting : olefile-0.46-py_0.conda:  23%|██▎       | 79/344 [00:05<00:44,  5.97it/s]            \rExtracting : bottleneck-1.3.2-py38heb32a55_1.conda:  23%|██▎       | 80/344 [00:06<00:44,  5.97it/s]\rExtracting : bottleneck-1.3.2-py38heb32a55_1.conda:  24%|██▎       | 81/344 [00:06<00:35,  7.39it/s]\rExtracting : tbb-2020.3-hfd86e86_0.conda:  24%|██▎       | 81/344 [00:06<00:35,  7.39it/s]          \rExtracting : pandas-1.2.4-py38h2531618_0.conda:  24%|██▍       | 82/344 [00:06<00:35,  7.39it/s]\rExtracting : conda-package-handling-1.7.3-py38h27cfd23_1.conda:  24%|██▍       | 83/344 [00:06<00:35,  7.39it/s]\rExtracting : tornado-6.1-py38h27cfd23_0.conda:  24%|██▍       | 84/344 [00:06<00:35,  7.39it/s]                 \rExtracting : tornado-6.1-py38h27cfd23_0.conda:  25%|██▍       | 85/344 [00:06<00:38,  6.80it/s]\rExtracting : liblief-0.10.1-he6710b0_0.conda:  25%|██▍       | 85/344 [00:06<00:38,  6.80it/s] \rExtracting : pathlib2-2.3.5-py38h06a4308_2.conda:  25%|██▌       | 86/344 [00:06<00:37,  6.80it/s]\rExtracting : locket-0.2.1-py38h06a4308_1.conda:  25%|██▌       | 87/344 [00:06<00:37,  6.80it/s]  \rExtracting : watchdog-1.0.2-py38h06a4308_1.conda:  26%|██▌       | 88/344 [00:06<00:37,  6.80it/s]\rExtracting : greenlet-1.0.0-py38h2531618_2.conda:  26%|██▌       | 89/344 [00:06<00:37,  6.80it/s]\rExtracting : sortedcollections-2.1.0-pyhd3eb1b0_0.conda:  26%|██▌       | 90/344 [00:06<00:37,  6.80it/s]\rExtracting : pydocstyle-6.0.0-pyhd3eb1b0_0.conda:  26%|██▋       | 91/344 [00:06<00:37,  6.80it/s]       \rExtracting : xmltodict-0.12.0-py_0.conda:  27%|██▋       | 92/344 [00:06<00:37,  6.80it/s]        \rExtracting : xmltodict-0.12.0-py_0.conda:  27%|██▋       | 93/344 [00:06<00:27,  9.25it/s]\rExtracting : mpc-1.1.0-h10f8cd9_1.conda:  27%|██▋       | 93/344 [00:06<00:27,  9.25it/s] \rExtracting : msgpack-python-1.0.2-py38hff7bd54_1.conda:  27%|██▋       | 94/344 [00:06<00:27,  9.25it/s]\rExtracting : cytoolz-0.11.0-py38h7b6447c_0.conda:  28%|██▊       | 95/344 [00:06<00:26,  9.25it/s]      \rExtracting : requests-2.25.1-pyhd3eb1b0_0.conda:  28%|██▊       | 96/344 [00:06<00:26,  9.25it/s] \rExtracting : numpydoc-1.1.0-pyhd3eb1b0_1.conda:  28%|██▊       | 97/344 [00:07<00:26,  9.25it/s] \rExtracting : numpydoc-1.1.0-pyhd3eb1b0_1.conda:  28%|██▊       | 98/344 [00:07<00:20, 11.95it/s]\rExtracting : zope.interface-5.3.0-py38h27cfd23_0.conda:  28%|██▊       | 98/344 [00:07<00:20, 11.95it/s]\rExtracting : clyent-1.2.2-py38_1.conda:  29%|██▉       | 99/344 [00:07<00:20, 11.95it/s]                \rExtracting : bkcharts-0.2-py38_0.conda:  29%|██▉       | 100/344 [00:07<00:20, 11.95it/s]\rExtracting : libgfortran-ng-7.3.0-hdf63c60_0.conda:  29%|██▉       | 101/344 [00:07<00:20, 11.95it/s]\rExtracting : libgfortran-ng-7.3.0-hdf63c60_0.conda:  30%|██▉       | 102/344 [00:07<00:17, 14.10it/s]\rExtracting : conda-content-trust-0.1.1-pyhd3eb1b0_0.conda:  30%|██▉       | 102/344 [00:07<00:17, 14.10it/s]\rExtracting : textdistance-4.2.1-pyhd3eb1b0_0.conda:  30%|██▉       | 103/344 [00:07<00:17, 14.10it/s]       \rExtracting : icu-58.2-he6710b0_3.conda:  30%|███       | 104/344 [00:07<00:17, 14.10it/s]            \rExtracting : jupyter-1.0.0-py38_7.conda:  31%|███       | 105/344 [00:07<00:16, 14.10it/s]\rExtracting : jupyter-1.0.0-py38_7.conda:  31%|███       | 106/344 [00:07<00:19, 12.50it/s]\rExtracting : intervaltree-3.1.0-py_0.conda:  31%|███       | 106/344 [00:07<00:19, 12.50it/s]\rExtracting : blosc-1.21.0-h8c45485_0.conda:  31%|███       | 107/344 [00:07<00:18, 12.50it/s]\rExtracting : spyder-kernels-1.10.2-py38h06a4308_0.conda:  31%|███▏      | 108/344 [00:07<00:18, 12.50it/s]\rExtracting : gmpy2-2.0.8-py38hd5f6e3b_3.conda:  32%|███▏      | 109/344 [00:07<00:18, 12.50it/s]          \rExtracting : more-itertools-8.7.0-pyhd3eb1b0_0.conda:  32%|███▏      | 110/344 [00:07<00:18, 12.50it/s]\rExtracting : kiwisolver-1.3.1-py38h2531618_0.conda:  32%|███▏      | 111/344 [00:07<00:18, 12.50it/s]  \rExtracting : scikit-learn-0.24.1-py38ha9443f7_0.conda:  33%|███▎      | 112/344 [00:07<00:18, 12.50it/s]\rExtracting : scikit-learn-0.24.1-py38ha9443f7_0.conda:  33%|███▎      | 113/344 [00:07<00:15, 14.53it/s]\rExtracting : sphinxcontrib-websupport-1.2.4-py_0.conda:  33%|███▎      | 113/344 [00:07<00:15, 14.53it/s]\rExtracting : pyerfa-1.7.3-py38h27cfd23_0.conda:  33%|███▎      | 114/344 [00:07<00:15, 14.53it/s]        \rExtracting : yapf-0.31.0-pyhd3eb1b0_0.conda:  33%|███▎      | 115/344 [00:07<00:15, 14.53it/s]   \rExtracting : jupyter_core-4.7.1-py38h06a4308_0.conda:  34%|███▎      | 116/344 [00:07<00:15, 14.53it/s]\rExtracting : pyopenssl-20.0.1-pyhd3eb1b0_1.conda:  34%|███▍      | 117/344 [00:07<00:15, 14.53it/s]    \rExtracting : gst-plugins-base-1.14.0-h8213a91_2.conda:  34%|███▍      | 118/344 [00:08<00:15, 14.53it/s]\rExtracting : gst-plugins-base-1.14.0-h8213a91_2.conda:  35%|███▍      | 119/344 [00:08<00:13, 17.15it/s]\rExtracting : toml-0.10.2-pyhd3eb1b0_0.conda:  35%|███▍      | 119/344 [00:08<00:13, 17.15it/s]          \rExtracting : xlsxwriter-1.3.8-pyhd3eb1b0_0.conda:  35%|███▍      | 120/344 [00:08<00:13, 17.15it/s]\rExtracting : dbus-1.13.18-hb2f20db_0.conda:  35%|███▌      | 121/344 [00:08<00:13, 17.15it/s]      \rExtracting : ipython_genutils-0.2.0-pyhd3eb1b0_1.conda:  35%|███▌      | 122/344 [00:08<00:12, 17.15it/s]\rExtracting : numexpr-2.7.3-py38h22e1b3c_1.conda:  36%|███▌      | 123/344 [00:08<00:12, 17.15it/s]       \rExtracting : nbconvert-6.0.7-py38_0.conda:  36%|███▌      | 124/344 [00:08<00:12, 17.15it/s]      \rExtracting : libarchive-3.4.2-h62408e4_0.conda:  36%|███▋      | 125/344 [00:08<00:12, 17.15it/s]\rExtracting : libarchive-3.4.2-h62408e4_0.conda:  37%|███▋      | 126/344 [00:08<00:11, 19.07it/s]\rExtracting : zstd-1.4.5-h9ceee32_0.conda:  37%|███▋      | 126/344 [00:08<00:11, 19.07it/s]      \rExtracting : llvmlite-0.36.0-py38h612dafd_4.conda:  37%|███▋      | 127/344 [00:08<00:11, 19.07it/s]\rExtracting : tqdm-4.59.0-pyhd3eb1b0_1.conda:  37%|███▋      | 128/344 [00:08<00:11, 19.07it/s]      \rExtracting : ruamel_yaml-0.15.100-py38h27cfd23_0.conda:  38%|███▊      | 129/344 [00:08<00:11, 19.07it/s]\rExtracting : unicodecsv-0.14.1-py38_0.conda:  38%|███▊      | 130/344 [00:08<00:11, 19.07it/s]           \rExtracting : gstreamer-1.14.0-h28cd5cc_2.conda:  38%|███▊      | 131/344 [00:08<00:11, 19.07it/s]\rExtracting : gstreamer-1.14.0-h28cd5cc_2.conda:  38%|███▊      | 132/344 [00:08<00:08, 23.75it/s]\rExtracting : atomicwrites-1.4.0-py_0.conda:  38%|███▊      | 132/344 [00:08<00:08, 23.75it/s]    \rExtracting : freetype-2.10.4-h5ab3b9f_0.conda:  39%|███▊      | 133/344 [00:08<00:08, 23.75it/s]\rExtracting : sympy-1.8-py38h06a4308_0.conda:  39%|███▉      | 134/344 [00:09<00:08, 23.75it/s]  \rExtracting : libxslt-1.1.34-hc22bd24_0.conda:  39%|███▉      | 135/344 [00:09<00:08, 23.75it/s]\rExtracting : libxslt-1.1.34-hc22bd24_0.conda:  40%|███▉      | 136/344 [00:09<00:23,  9.03it/s]\rExtracting : nbclient-0.5.3-pyhd3eb1b0_0.conda:  40%|███▉      | 136/344 [00:09<00:23,  9.03it/s]\rExtracting : mock-4.0.3-pyhd3eb1b0_0.conda:  40%|███▉      | 137/344 [00:09<00:22,  9.03it/s]    \rExtracting : krb5-1.18.2-h173b8e3_0.conda:  40%|████      | 138/344 [00:09<00:22,  9.03it/s] \rExtracting : anaconda-client-1.7.2-py38_0.conda:  40%|████      | 139/344 [00:09<00:22,  9.03it/s]\rExtracting : three-merge-0.1.1-pyhd3eb1b0_0.conda:  41%|████      | 140/344 [00:09<00:22,  9.03it/s]\rExtracting : nose-1.3.7-pyhd3eb1b0_1006.conda:  41%|████      | 141/344 [00:09<00:22,  9.03it/s]    \rExtracting : argh-0.26.2-py38_0.conda:  41%|████▏     | 142/344 [00:09<00:22,  9.03it/s]        \rExtracting : flake8-3.9.0-pyhd3eb1b0_0.conda:  42%|████▏     | 143/344 [00:09<00:22,  9.03it/s]\rExtracting : jdcal-1.4.1-py_0.conda:  42%|████▏     | 144/344 [00:09<00:22,  9.03it/s]         \rExtracting : docutils-0.17.1-py38h06a4308_1.conda:  42%|████▏     | 145/344 [00:09<00:22,  9.03it/s]\rExtracting : prompt-toolkit-3.0.17-pyh06a4308_0.conda:  42%|████▏     | 146/344 [00:09<00:21,  9.03it/s]\rExtracting : conda-env-2.6.0-1.conda:  43%|████▎     | 147/344 [00:09<00:21,  9.03it/s]                 \rExtracting : nbclassic-0.2.6-pyhd3eb1b0_0.conda:  43%|████▎     | 148/344 [00:09<00:21,  9.03it/s]\rExtracting : imageio-2.9.0-pyhd3eb1b0_0.conda:  43%|████▎     | 149/344 [00:09<00:21,  9.03it/s]  \rExtracting : imageio-2.9.0-pyhd3eb1b0_0.conda:  44%|████▎     | 150/344 [00:09<00:16, 12.12it/s]\rExtracting : pathspec-0.7.0-py_0.conda:  44%|████▎     | 150/344 [00:09<00:16, 12.12it/s]       \rExtracting : sortedcontainers-2.3.0-pyhd3eb1b0_0.conda:  44%|████▍     | 151/344 [00:09<00:15, 12.12it/s]\rExtracting : pexpect-4.8.0-pyhd3eb1b0_3.conda:  44%|████▍     | 152/344 [00:09<00:15, 12.12it/s]         \rExtracting : black-19.10b0-py_0.conda:  44%|████▍     | 153/344 [00:09<00:15, 12.12it/s]        \rExtracting : readline-8.1-h27cfd23_0.conda:  45%|████▍     | 154/344 [00:09<00:15, 12.12it/s]\rExtracting : pyls-black-0.4.6-hd3eb1b0_0.conda:  45%|████▌     | 155/344 [00:10<00:15, 12.12it/s]\rExtracting : pyls-black-0.4.6-hd3eb1b0_0.conda:  45%|████▌     | 156/344 [00:10<00:13, 14.31it/s]\rExtracting : _libgcc_mutex-0.1-main.conda:  45%|████▌     | 156/344 [00:10<00:13, 14.31it/s]     \rExtracting : h5py-2.10.0-py38h7918eee_0.conda:  46%|████▌     | 157/344 [00:10<00:13, 14.31it/s]\rExtracting : openpyxl-3.0.7-pyhd3eb1b0_0.conda:  46%|████▌     | 158/344 [00:10<00:12, 14.31it/s]\rExtracting : keyring-22.3.0-py38h06a4308_0.conda:  46%|████▌     | 159/344 [00:10<00:12, 14.31it/s]\rExtracting : sphinxcontrib-1.0-py38_1.conda:  47%|████▋     | 160/344 [00:10<00:12, 14.31it/s]     \rExtracting : ipython-7.22.0-py38hb070fc8_0.conda:  47%|████▋     | 161/344 [00:10<00:12, 14.31it/s]\rExtracting : ipython-7.22.0-py38hb070fc8_0.conda:  47%|████▋     | 162/344 [00:10<00:10, 18.02it/s]\rExtracting : pytables-3.6.1-py38h9fd0a39_0.conda:  47%|████▋     | 162/344 [00:10<00:10, 18.02it/s]\rExtracting : psutil-5.8.0-py38h27cfd23_1.conda:  47%|████▋     | 163/344 [00:10<00:10, 18.02it/s]  \rExtracting : joblib-1.0.1-pyhd3eb1b0_0.conda:  48%|████▊     | 164/344 [00:10<00:09, 18.02it/s]  \rExtracting : conda-build-3.21.4-py38h06a4308_0.conda:  48%|████▊     | 165/344 [00:10<00:09, 18.02it/s]\rExtracting : graphite2-1.3.14-h23475e2_0.conda:  48%|████▊     | 166/344 [00:10<00:09, 18.02it/s]      \rExtracting : snowballstemmer-2.1.0-pyhd3eb1b0_0.conda:  49%|████▊     | 167/344 [00:10<00:09, 18.02it/s]\rExtracting : snowballstemmer-2.1.0-pyhd3eb1b0_0.conda:  49%|████▉     | 168/344 [00:10<00:08, 19.98it/s]\rExtracting : cairo-1.16.0-hf32fb01_1.conda:  49%|████▉     | 168/344 [00:10<00:08, 19.98it/s]           \rExtracting : secretstorage-3.3.1-py38h06a4308_0.conda:  49%|████▉     | 169/344 [00:10<00:08, 19.98it/s]\rExtracting : distributed-2021.4.1-py38h06a4308_0.conda:  49%|████▉     | 170/344 [00:10<00:08, 19.98it/s]\rExtracting : notebook-6.3.0-py38h06a4308_0.conda:  50%|████▉     | 171/344 [00:10<00:08, 19.98it/s]      \rExtracting : notebook-6.3.0-py38h06a4308_0.conda:  50%|█████     | 172/344 [00:10<00:11, 14.41it/s]\rExtracting : seaborn-0.11.1-pyhd3eb1b0_0.conda:  50%|█████     | 172/344 [00:10<00:11, 14.41it/s]  \rExtracting : ld_impl_linux-64-2.33.1-h53a641e_7.conda:  50%|█████     | 173/344 [00:10<00:11, 14.41it/s]\rExtracting : rope-0.18.0-py_0.conda:  51%|█████     | 174/344 [00:10<00:11, 14.41it/s]                  \rExtracting : nbformat-5.1.3-pyhd3eb1b0_0.conda:  51%|█████     | 175/344 [00:10<00:11, 14.41it/s]\rExtracting : zlib-1.2.11-h7b6447c_3.conda:  51%|█████     | 176/344 [00:10<00:11, 14.41it/s]     \rExtracting : libpng-1.6.37-hbc83047_0.conda:  51%|█████▏    | 177/344 [00:10<00:11, 14.41it/s]\rExtracting : urllib3-1.26.4-pyhd3eb1b0_0.conda:  52%|█████▏    | 178/344 [00:11<00:11, 14.41it/s]\rExtracting : urllib3-1.26.4-pyhd3eb1b0_0.conda:  52%|█████▏    | 179/344 [00:11<00:09, 17.43it/s]\rExtracting : pip-21.0.1-py38h06a4308_0.conda:  52%|█████▏    | 179/344 [00:11<00:09, 17.43it/s]  \rExtracting : backports.functools_lru_cache-1.6.4-pyhd3eb1b0_0.conda:  52%|█████▏    | 180/344 [00:11<00:09, 17.43it/s]\rExtracting : argon2-cffi-20.1.0-py38h27cfd23_1.conda:  53%|█████▎    | 181/344 [00:11<00:09, 17.43it/s]               \rExtracting : pep8-1.7.1-py38_0.conda:  53%|█████▎    | 182/344 [00:11<00:09, 17.43it/s]                \rExtracting : pep8-1.7.1-py38_0.conda:  53%|█████▎    | 183/344 [00:11<00:07, 20.32it/s]\rExtracting : cffi-1.14.5-py38h261ae71_0.conda:  53%|█████▎    | 183/344 [00:11<00:07, 20.32it/s]\rExtracting : ptyprocess-0.7.0-pyhd3eb1b0_2.conda:  53%|█████▎    | 184/344 [00:11<00:07, 20.32it/s]\rExtracting : ply-3.11-py38_0.conda:  54%|█████▍    | 185/344 [00:11<00:07, 20.32it/s]              \rExtracting : ply-3.11-py38_0.conda:  54%|█████▍    | 186/344 [00:11<00:07, 22.13it/s]\rExtracting : mpmath-1.2.1-py38h06a4308_0.conda:  54%|█████▍    | 186/344 [00:11<00:07, 22.13it/s]\rExtracting : navigator-updater-0.2.1-py38_0.conda:  54%|█████▍    | 187/344 [00:11<00:07, 22.13it/s]\rExtracting : jinja2-2.11.3-pyhd3eb1b0_0.conda:  55%|█████▍    | 188/344 [00:11<00:07, 22.13it/s]    \rExtracting : jinja2-2.11.3-pyhd3eb1b0_0.conda:  55%|█████▍    | 189/344 [00:11<00:07, 21.94it/s]\rExtracting : cloudpickle-1.6.0-py_0.conda:  55%|█████▍    | 189/344 [00:11<00:07, 21.94it/s]    \rExtracting : pillow-8.2.0-py38he98fc37_0.conda:  55%|█████▌    | 190/344 [00:11<00:07, 21.94it/s]\rExtracting : jupyter-packaging-0.7.12-pyhd3eb1b0_0.conda:  56%|█████▌    | 191/344 [00:11<00:06, 21.94it/s]\rExtracting : jupyter-packaging-0.7.12-pyhd3eb1b0_0.conda:  56%|█████▌    | 192/344 [00:11<00:06, 23.56it/s]\rExtracting : rtree-0.9.7-py38h06a4308_1.conda:  56%|█████▌    | 192/344 [00:11<00:06, 23.56it/s]           \rExtracting : ripgrep-12.1.1-0.conda:  56%|█████▌    | 193/344 [00:11<00:06, 23.56it/s]          \rExtracting : et_xmlfile-1.0.1-py_1001.conda:  56%|█████▋    | 194/344 [00:11<00:06, 23.56it/s]\rExtracting : entrypoints-0.3-py38_0.conda:  57%|█████▋    | 195/344 [00:11<00:06, 23.56it/s]  \rExtracting : ca-certificates-2021.4.13-h06a4308_1.conda:  57%|█████▋    | 196/344 [00:11<00:06, 23.56it/s]\rExtracting : pluggy-0.13.1-py38h06a4308_0.conda:  57%|█████▋    | 197/344 [00:11<00:06, 23.56it/s]        \rExtracting : pluggy-0.13.1-py38h06a4308_0.conda:  58%|█████▊    | 198/344 [00:11<00:05, 25.72it/s]\rExtracting : pyodbc-4.0.30-py38he6710b0_0.conda:  58%|█████▊    | 198/344 [00:11<00:05, 25.72it/s]\rExtracting : pandoc-2.12-h06a4308_0.conda:  58%|█████▊    | 199/344 [00:12<00:05, 25.72it/s]      \rExtracting : multipledispatch-0.6.0-py38_0.conda:  58%|█████▊    | 200/344 [00:12<00:05, 25.72it/s]\rExtracting : multipledispatch-0.6.0-py38_0.conda:  58%|█████▊    | 201/344 [00:12<00:09, 15.06it/s]\rExtracting : pytz-2021.1-pyhd3eb1b0_0.conda:  58%|█████▊    | 201/344 [00:12<00:09, 15.06it/s]     \rExtracting : expat-2.3.0-h2531618_2.conda:  59%|█████▊    | 202/344 [00:12<00:09, 15.06it/s]  \rExtracting : pycparser-2.20-py_2.conda:  59%|█████▉    | 203/344 [00:12<00:09, 15.06it/s]   \rExtracting : html5lib-1.1-py_0.conda:  59%|█████▉    | 204/344 [00:12<00:09, 15.06it/s]  \rExtracting : matplotlib-3.3.4-py38h06a4308_0.conda:  60%|█████▉    | 205/344 [00:12<00:09, 15.06it/s]\rExtracting : bzip2-1.0.8-h7b6447c_0.conda:  60%|█████▉    | 206/344 [00:12<00:09, 15.06it/s]         \rExtracting : lcms2-2.12-h3be6417_0.conda:  60%|██████    | 207/344 [00:12<00:09, 15.06it/s] \rExtracting : wrapt-1.12.1-py38h7b6447c_1.conda:  60%|██████    | 208/344 [00:12<00:09, 15.06it/s]\rExtracting : lxml-4.6.3-py38h9120a33_0.conda:  61%|██████    | 209/344 [00:12<00:08, 15.06it/s]  \rExtracting : lxml-4.6.3-py38h9120a33_0.conda:  61%|██████    | 210/344 [00:12<00:06, 19.25it/s]\rExtracting : matplotlib-base-3.3.4-py38h62a2d02_0.conda:  61%|██████    | 210/344 [00:12<00:06, 19.25it/s]\rExtracting : astropy-4.2.1-py38h27cfd23_1.conda:  61%|██████▏   | 211/344 [00:13<00:06, 19.25it/s]        \rExtracting : backports.shutil_get_terminal_size-1.0.0-pyhd3eb1b0_3.conda:  62%|██████▏   | 212/344 [00:13<00:06, 19.25it/s]\rExtracting : pycurl-7.43.0.6-py38h1ba5d50_0.conda:  62%|██████▏   | 213/344 [00:13<00:06, 19.25it/s]                       \rExtracting : pycurl-7.43.0.6-py38h1ba5d50_0.conda:  62%|██████▏   | 214/344 [00:13<00:11, 10.83it/s]\rExtracting : prometheus_client-0.10.1-pyhd3eb1b0_0.conda:  62%|██████▏   | 214/344 [00:13<00:11, 10.83it/s]\rExtracting : python-jsonrpc-server-0.4.0-py_0.conda:  62%|██████▎   | 215/344 [00:13<00:11, 10.83it/s]     \rExtracting : wcwidth-0.2.5-py_0.conda:  63%|██████▎   | 216/344 [00:13<00:11, 10.83it/s]              \rExtracting : contextlib2-0.6.0.post1-py_0.conda:  63%|██████▎   | 217/344 [00:13<00:11, 10.83it/s]\rExtracting : jupyterlab-3.0.14-pyhd3eb1b0_1.conda:  63%|██████▎   | 218/344 [00:13<00:11, 10.83it/s]\rExtracting : jupyterlab-3.0.14-pyhd3eb1b0_1.conda:  64%|██████▎   | 219/344 [00:13<00:09, 13.06it/s]\rExtracting : patchelf-0.12-h2531618_1.conda:  64%|██████▎   | 219/344 [00:13<00:09, 13.06it/s]      \rExtracting : pickleshare-0.7.5-pyhd3eb1b0_1003.conda:  64%|██████▍   | 220/344 [00:13<00:09, 13.06it/s]\rExtracting : zope.event-4.5.0-py38_0.conda:  64%|██████▍   | 221/344 [00:13<00:09, 13.06it/s]          \rExtracting : mccabe-0.6.1-py38_1.conda:  65%|██████▍   | 222/344 [00:13<00:09, 13.06it/s]    \rExtracting : libtool-2.4.6-h7b6447c_1005.conda:  65%|██████▍   | 223/344 [00:13<00:09, 13.06it/s]\rExtracting : libgcc-ng-9.1.0-hdf63c60_0.conda:  65%|██████▌   | 224/344 [00:13<00:09, 13.06it/s] \rExtracting : libgcc-ng-9.1.0-hdf63c60_0.conda:  65%|██████▌   | 225/344 [00:13<00:07, 14.94it/s]\rExtracting : markupsafe-1.1.1-py38h7b6447c_0.conda:  65%|██████▌   | 225/344 [00:13<00:07, 14.94it/s]\rExtracting : setuptools-52.0.0-py38h06a4308_0.conda:  66%|██████▌   | 226/344 [00:13<00:07, 14.94it/s]\rExtracting : spyder-4.2.5-py38h06a4308_0.conda:  66%|██████▌   | 227/344 [00:14<00:07, 14.94it/s]     \rExtracting : spyder-4.2.5-py38h06a4308_0.conda:  66%|██████▋   | 228/344 [00:14<00:14,  8.05it/s]\rExtracting : jedi-0.17.2-py38h06a4308_1.conda:  66%|██████▋   | 228/344 [00:14<00:14,  8.05it/s] \rExtracting : conda-repo-cli-1.0.4-pyhd3eb1b0_0.conda:  67%|██████▋   | 229/344 [00:14<00:14,  8.05it/s]\rExtracting : cycler-0.10.0-py38_0.conda:  67%|██████▋   | 230/344 [00:14<00:14,  8.05it/s]             \rExtracting : isort-5.8.0-pyhd3eb1b0_0.conda:  67%|██████▋   | 231/344 [00:14<00:14,  8.05it/s]\rExtracting : intel-openmp-2021.2.0-h06a4308_610.conda:  67%|██████▋   | 232/344 [00:14<00:13,  8.05it/s]\rExtracting : send2trash-1.5.0-pyhd3eb1b0_1.conda:  68%|██████▊   | 233/344 [00:14<00:13,  8.05it/s]     \rExtracting : send2trash-1.5.0-pyhd3eb1b0_1.conda:  68%|██████▊   | 234/344 [00:14<00:10, 10.63it/s]\rExtracting : python-language-server-0.36.2-pyhd3eb1b0_0.conda:  68%|██████▊   | 234/344 [00:14<00:10, 10.63it/s]\rExtracting : sphinx-4.0.1-pyhd3eb1b0_0.conda:  68%|██████▊   | 235/344 [00:14<00:10, 10.63it/s]                 \rExtracting : ipywidgets-7.6.3-pyhd3eb1b0_1.conda:  69%|██████▊   | 236/344 [00:14<00:10, 10.63it/s]\rExtracting : ncurses-6.2-he6710b0_1.conda:  69%|██████▉   | 237/344 [00:14<00:10, 10.63it/s]       \rExtracting : ncurses-6.2-he6710b0_1.conda:  69%|██████▉   | 238/344 [00:14<00:10, 10.55it/s]\rExtracting : tblib-1.7.0-py_0.conda:  69%|██████▉   | 238/344 [00:14<00:10, 10.55it/s]      \rExtracting : numpy-base-1.20.1-py38h7d8b39e_0.conda:  69%|██████▉   | 239/344 [00:15<00:09, 10.55it/s]\rExtracting : libuuid-1.0.3-h1bed415_2.conda:  70%|██████▉   | 240/344 [00:15<00:09, 10.55it/s]        \rExtracting : libuuid-1.0.3-h1bed415_2.conda:  70%|███████   | 241/344 [00:15<00:10, 10.02it/s]\rExtracting : py-lief-0.10.1-py38h403a769_0.conda:  70%|███████   | 241/344 [00:15<00:10, 10.02it/s]\rExtracting : babel-2.9.0-pyhd3eb1b0_0.conda:  70%|███████   | 242/344 [00:15<00:10, 10.02it/s]     \rExtracting : babel-2.9.0-pyhd3eb1b0_0.conda:  71%|███████   | 243/344 [00:15<00:09, 10.89it/s]\rExtracting : openssl-1.1.1k-h27cfd23_0.conda:  71%|███████   | 243/344 [00:15<00:09, 10.89it/s]\rExtracting : jupyterlab_pygments-0.1.2-py_0.conda:  71%|███████   | 244/344 [00:15<00:09, 10.89it/s]\rExtracting : asn1crypto-1.4.0-py_0.conda:  71%|███████   | 245/344 [00:15<00:09, 10.89it/s]         \rExtracting : dask-2021.4.0-pyhd3eb1b0_0.conda:  72%|███████▏  | 246/344 [00:15<00:08, 10.89it/s]\rExtracting : dask-2021.4.0-pyhd3eb1b0_0.conda:  72%|███████▏  | 247/344 [00:15<00:07, 13.07it/s]\rExtracting : simplegeneric-0.8.1-py38_2.conda:  72%|███████▏  | 247/344 [00:15<00:07, 13.07it/s]\rExtracting : lzo-2.10-h7b6447c_2.conda:  72%|███████▏  | 248/344 [00:15<00:07, 13.07it/s]       \rExtracting : zeromq-4.3.4-h2531618_0.conda:  72%|███████▏  | 249/344 [00:15<00:07, 13.07it/s]\rExtracting : libxml2-2.9.10-hb55368b_3.conda:  73%|███████▎  | 250/344 [00:15<00:07, 13.07it/s]\rExtracting : libxml2-2.9.10-hb55368b_3.conda:  73%|███████▎  | 251/344 [00:15<00:06, 14.86it/s]\rExtracting : mkl_random-1.2.1-py38ha9443f7_2.conda:  73%|███████▎  | 251/344 [00:15<00:06, 14.86it/s]\rExtracting : jsonschema-3.2.0-py_2.conda:  73%|███████▎  | 252/344 [00:15<00:06, 14.86it/s]          \rExtracting : jpeg-9b-h024ee3a_2.conda:  74%|███████▎  | 253/344 [00:15<00:06, 14.86it/s]   \rExtracting : libsodium-1.0.18-h7b6447c_0.conda:  74%|███████▍  | 254/344 [00:15<00:06, 14.86it/s]\rExtracting : wheel-0.36.2-pyhd3eb1b0_0.conda:  74%|███████▍  | 255/344 [00:15<00:05, 14.86it/s]  \rExtracting : json5-0.9.5-py_0.conda:  74%|███████▍  | 256/344 [00:15<00:05, 14.86it/s]         \rExtracting : python-libarchive-c-2.9-pyhd3eb1b0_1.conda:  75%|███████▍  | 257/344 [00:15<00:05, 14.86it/s]\rExtracting : sip-4.19.13-py38he6710b0_0.conda:  75%|███████▌  | 258/344 [00:15<00:05, 14.86it/s]          \rExtracting : sip-4.19.13-py38he6710b0_0.conda:  75%|███████▌  | 259/344 [00:15<00:04, 18.93it/s]\rExtracting : bitarray-2.1.0-py38h27cfd23_1.conda:  75%|███████▌  | 259/344 [00:15<00:04, 18.93it/s]\rExtracting : mkl-2021.2.0-h06a4308_296.conda:  76%|███████▌  | 260/344 [00:23<00:04, 18.93it/s]    \rExtracting : chardet-4.0.0-py38h06a4308_1003.conda:  76%|███████▌  | 261/344 [00:23<00:04, 18.93it/s]\rExtracting : chardet-4.0.0-py38h06a4308_1003.conda:  76%|███████▌  | 262/344 [00:23<01:03,  1.29it/s]\rExtracting : libtiff-4.2.0-h85742a9_0.conda:  76%|███████▌  | 262/344 [00:23<01:03,  1.29it/s]       \rExtracting : jbig-2.1-hdba287a_0.conda:  76%|███████▋  | 263/344 [00:23<01:02,  1.29it/s]     \rExtracting : jupyter_server-1.4.1-py38h06a4308_0.conda:  77%|███████▋  | 264/344 [00:23<01:02,  1.29it/s]\rExtracting : wurlitzer-2.1.0-py38h06a4308_0.conda:  77%|███████▋  | 265/344 [00:23<01:01,  1.29it/s]     \rExtracting : libuv-1.40.0-h7b6447c_0.conda:  77%|███████▋  | 266/344 [00:23<01:00,  1.29it/s]       \rExtracting : anaconda-project-0.9.1-pyhd3eb1b0_1.conda:  78%|███████▊  | 267/344 [00:23<00:59,  1.29it/s]\rExtracting : lz4-c-1.9.3-h2531618_0.conda:  78%|███████▊  | 268/344 [00:23<00:59,  1.29it/s]             \rExtracting : pywavelets-1.1.1-py38h7b6447c_2.conda:  78%|███████▊  | 269/344 [00:23<00:58,  1.29it/s]\rExtracting : cryptography-3.4.7-py38hd23ed53_0.conda:  78%|███████▊  | 270/344 [00:23<00:57,  1.29it/s]\rExtracting : jupyterlab_widgets-1.0.0-pyhd3eb1b0_1.conda:  79%|███████▉  | 271/344 [00:23<00:56,  1.29it/s]\rExtracting : pyqt-5.9.2-py38h05f1152_4.conda:  79%|███████▉  | 272/344 [00:23<00:55,  1.29it/s]            \rExtracting : tk-8.6.10-hbc83047_0.conda:  79%|███████▉  | 273/344 [00:23<00:55,  1.29it/s]     \rExtracting : libcurl-7.71.1-h20c2e04_1.conda:  80%|███████▉  | 274/344 [00:23<00:54,  1.29it/s]\rExtracting : conda-verify-3.4.2-py_1.conda:  80%|███████▉  | 275/344 [00:23<00:53,  1.29it/s]  \rExtracting : importlib_metadata-3.10.0-hd3eb1b0_0.conda:  80%|████████  | 276/344 [00:23<00:52,  1.29it/s]\rExtracting : get_terminal_size-1.0.0-haa9412d_0.conda:  81%|████████  | 277/344 [00:23<00:52,  1.29it/s]  \rExtracting : fsspec-0.9.0-pyhd3eb1b0_0.conda:  81%|████████  | 278/344 [00:23<00:51,  1.29it/s]         \rExtracting : partd-1.2.0-pyhd3eb1b0_0.conda:  81%|████████  | 279/344 [00:23<00:50,  1.29it/s] \rExtracting : py-1.10.0-pyhd3eb1b0_0.conda:  81%|████████▏ | 280/344 [00:23<00:49,  1.29it/s]  \rExtracting : numba-0.53.1-py38ha9443f7_0.conda:  82%|████████▏ | 281/344 [00:23<00:48,  1.29it/s]\rExtracting : gevent-21.1.2-py38h27cfd23_1.conda:  82%|████████▏ | 282/344 [00:23<00:48,  1.29it/s]\rExtracting : libssh2-1.9.0-h1ba5d50_1.conda:  82%|████████▏ | 283/344 [00:23<00:47,  1.29it/s]    \rExtracting : python-3.8.8-hdb3f193_5.conda:  83%|████████▎ | 284/344 [00:23<00:46,  1.29it/s] \rExtracting : anyio-2.2.0-py38h06a4308_1.conda:  83%|████████▎ | 285/344 [00:23<00:45,  1.29it/s]\rExtracting : backports.weakref-1.0.post1-py_1.conda:  83%|████████▎ | 286/344 [00:23<00:45,  1.29it/s]\rExtracting : mkl-service-2.3.0-py38h27cfd23_1.conda:  83%|████████▎ | 287/344 [00:23<00:44,  1.29it/s]\rExtracting : soupsieve-2.2.1-pyhd3eb1b0_0.conda:  84%|████████▎ | 288/344 [00:23<00:43,  1.29it/s]    \rExtracting : sqlite-3.35.4-hdfb4753_0.conda:  84%|████████▍ | 289/344 [00:23<00:42,  1.29it/s]    \rExtracting : libxcb-1.14-h7b6447c_0.conda:  84%|████████▍ | 290/344 [00:23<00:41,  1.29it/s]  \rExtracting : sniffio-1.2.0-py38h06a4308_1.conda:  85%|████████▍ | 291/344 [00:23<00:41,  1.29it/s]\rExtracting : c-ares-1.17.1-h27cfd23_0.conda:  85%|████████▍ | 292/344 [00:23<00:40,  1.29it/s]    \rExtracting : _ipyw_jlab_nb_ext_conf-0.1.0-py38_0.conda:  85%|████████▌ | 293/344 [00:23<00:39,  1.29it/s]\rExtracting : ipykernel-5.3.4-py38h5ca1d4c_0.conda:  85%|████████▌ | 294/344 [00:23<00:38,  1.29it/s]     \rExtracting : pyls-spyder-0.3.2-pyhd3eb1b0_0.conda:  86%|████████▌ | 295/344 [00:23<00:38,  1.29it/s]\rExtracting : qdarkstyle-2.8.1-py_0.conda:  86%|████████▌ | 296/344 [00:23<00:37,  1.29it/s]         \rExtracting : qtawesome-1.0.2-pyhd3eb1b0_0.conda:  86%|████████▋ | 297/344 [00:23<00:36,  1.29it/s]\rExtracting : defusedxml-0.7.1-pyhd3eb1b0_0.conda:  87%|████████▋ | 298/344 [00:23<00:35,  1.29it/s]\rExtracting : pygments-2.8.1-pyhd3eb1b0_0.conda:  87%|████████▋ | 299/344 [00:23<00:34,  1.29it/s]  \rExtracting : pixman-0.40.0-h7b6447c_0.conda:  87%|████████▋ | 300/344 [00:23<00:34,  1.29it/s]   \rExtracting : tifffile-2020.10.1-py38hdd07704_2.conda:  88%|████████▊ | 301/344 [00:23<00:33,  1.29it/s]\rExtracting : future-0.18.2-py38_1.conda:  88%|████████▊ | 302/344 [00:23<00:32,  1.29it/s]             \rExtracting : libspatialindex-1.9.3-h2531618_0.conda:  88%|████████▊ | 303/344 [00:23<00:31,  1.29it/s]\rExtracting : packaging-20.9-pyhd3eb1b0_0.conda:  88%|████████▊ | 304/344 [00:23<00:31,  1.29it/s]     \rExtracting : pyyaml-5.4.1-py38h27cfd23_1.conda:  89%|████████▊ | 305/344 [00:23<00:30,  1.29it/s]\rExtracting : blas-1.0-mkl.conda:  89%|████████▉ | 306/344 [00:23<00:29,  1.29it/s]               \rExtracting : lazy-object-proxy-1.6.0-py38h27cfd23_0.conda:  89%|████████▉ | 307/344 [00:23<00:28,  1.29it/s]\rExtracting : certifi-2020.12.5-py38h06a4308_0.conda:  90%|████████▉ | 308/344 [00:23<00:27,  1.29it/s]      \rExtracting : importlib-metadata-3.10.0-py38h06a4308_0.conda:  90%|████████▉ | 309/344 [00:23<00:27,  1.29it/s]\rExtracting : parso-0.7.0-py_0.conda:  90%|█████████ | 310/344 [00:23<00:26,  1.29it/s]                        \rExtracting : scipy-1.6.2-py38had2a1c9_1.conda:  90%|█████████ | 311/344 [00:23<00:25,  1.29it/s]\rExtracting : scipy-1.6.2-py38had2a1c9_1.conda:  91%|█████████ | 312/344 [00:23<00:17,  1.83it/s]\rExtracting : toolz-0.11.1-pyhd3eb1b0_0.tar.bz2:  91%|█████████ | 312/344 [00:23<00:17,  1.83it/s]\rExtracting : imagesize-1.2.0-pyhd3eb1b0_0.tar.bz2:  91%|█████████ | 313/344 [00:23<00:16,  1.83it/s]\rExtracting : testpath-0.4.4-pyhd3eb1b0_0.tar.bz2:  91%|█████████▏| 314/344 [00:23<00:16,  1.83it/s] \rExtracting : filelock-3.0.12-pyhd3eb1b0_1.tar.bz2:  92%|█████████▏| 315/344 [00:23<00:15,  1.83it/s]\rExtracting : idna-2.10-pyhd3eb1b0_0.tar.bz2:  92%|█████████▏| 316/344 [00:23<00:15,  1.83it/s]      \rExtracting : sphinxcontrib-qthelp-1.0.3-pyhd3eb1b0_0.tar.bz2:  92%|█████████▏| 317/344 [00:23<00:14,  1.83it/s]\rExtracting : anaconda-navigator-2.0.3-py38_0.tar.bz2:  92%|█████████▏| 318/344 [00:24<00:14,  1.83it/s]        \rExtracting : anaconda-2021.05-py38_0.tar.bz2:  93%|█████████▎| 319/344 [00:24<00:13,  1.83it/s]        \rExtracting : typing_extensions-3.7.4.3-pyha847dfd_0.tar.bz2:  93%|█████████▎| 320/344 [00:24<00:13,  1.83it/s]\rExtracting : werkzeug-1.0.1-pyhd3eb1b0_0.tar.bz2:  93%|█████████▎| 321/344 [00:24<00:12,  1.83it/s]           \rExtracting : click-7.1.2-pyhd3eb1b0_0.tar.bz2:  94%|█████████▎| 322/344 [00:24<00:11,  1.83it/s]   \rExtracting : python-dateutil-2.8.1-pyhd3eb1b0_0.tar.bz2:  94%|█████████▍| 323/344 [00:24<00:11,  1.83it/s]\rExtracting : alabaster-0.7.12-pyhd3eb1b0_0.tar.bz2:  94%|█████████▍| 324/344 [00:24<00:10,  1.83it/s]     \rExtracting : alabaster-0.7.12-pyhd3eb1b0_0.tar.bz2:  94%|█████████▍| 325/344 [00:24<00:07,  2.40it/s]\rExtracting : sphinxcontrib-jsmath-1.0.1-pyhd3eb1b0_0.tar.bz2:  94%|█████████▍| 325/344 [00:24<00:07,  2.40it/s]\rExtracting : pyparsing-2.4.7-pyhd3eb1b0_0.tar.bz2:  95%|█████████▍| 326/344 [00:24<00:07,  2.40it/s]           \rExtracting : sphinxcontrib-serializinghtml-1.1.4-pyhd3eb1b0_0.tar.bz2:  95%|█████████▌| 327/344 [00:24<00:07,  2.40it/s]\rExtracting : backports.tempfile-1.0-pyhd3eb1b0_1.tar.bz2:  95%|█████████▌| 328/344 [00:24<00:06,  2.40it/s]             \rExtracting : traitlets-5.0.5-pyhd3eb1b0_0.tar.bz2:  96%|█████████▌| 329/344 [00:24<00:06,  2.40it/s]       \rExtracting : itsdangerous-1.1.0-pyhd3eb1b0_0.tar.bz2:  96%|█████████▌| 330/344 [00:24<00:05,  2.40it/s]\rExtracting : conda-4.10.1-py38h06a4308_1.tar.bz2:  96%|█████████▌| 331/344 [00:24<00:05,  2.40it/s]    \rExtracting : async_generator-1.10-pyhd3eb1b0_0.tar.bz2:  97%|█████████▋| 332/344 [00:24<00:04,  2.40it/s]\rExtracting : glob2-0.7-pyhd3eb1b0_0.tar.bz2:  97%|█████████▋| 333/344 [00:24<00:04,  2.40it/s]           \rExtracting : sphinxcontrib-devhelp-1.0.2-pyhd3eb1b0_0.tar.bz2:  97%|█████████▋| 334/344 [00:24<00:04,  2.40it/s]\rExtracting : sphinxcontrib-applehelp-1.0.2-pyhd3eb1b0_0.tar.bz2:  97%|█████████▋| 335/344 [00:24<00:03,  2.40it/s]\rExtracting : flask-1.1.2-pyhd3eb1b0_0.tar.bz2:  98%|█████████▊| 336/344 [00:24<00:03,  2.40it/s]                  \rExtracting : pycodestyle-2.6.0-pyhd3eb1b0_0.tar.bz2:  98%|█████████▊| 337/344 [00:24<00:02,  2.40it/s]\rExtracting : beautifulsoup4-4.9.3-pyha847dfd_0.tar.bz2:  98%|█████████▊| 338/344 [00:25<00:02,  2.40it/s]\rExtracting : beautifulsoup4-4.9.3-pyha847dfd_0.tar.bz2:  99%|█████████▊| 339/344 [00:25<00:01,  3.40it/s]\rExtracting : iniconfig-1.1.1-pyhd3eb1b0_0.tar.bz2:  99%|█████████▊| 339/344 [00:25<00:01,  3.40it/s]     \rExtracting : pyflakes-2.2.0-pyhd3eb1b0_0.tar.bz2:  99%|█████████▉| 340/344 [00:25<00:01,  3.40it/s] \rExtracting : sphinxcontrib-htmlhelp-1.0.3-pyhd3eb1b0_0.tar.bz2:  99%|█████████▉| 341/344 [00:25<00:00,  3.40it/s]\rExtracting : zict-2.0.0-pyhd3eb1b0_0.tar.bz2:  99%|█████████▉| 342/344 [00:25<00:00,  3.40it/s]                  \rExtracting : backcall-0.2.0-pyhd3eb1b0_0.tar.bz2: 100%|█████████▉| 343/344 [00:25<00:00,  3.40it/s]\r                                                                                                   \r"
     ]
    }
   ],
   "source": [
    "%%bash\n",
    "wget -q https://repo.anaconda.com/archive/Anaconda3-2021.05-Linux-x86_64.sh\n",
    "/bin/bash ./Anaconda3-2021.05-Linux-x86_64.sh -b -p /content/anaconda3 >/content/01_install_anaconda.log\n",
    "rm -rf /content/Anaconda3-2021.05-Linux-x86_64.sh /content/sample_data\n",
    "/content/anaconda3/bin/conda update -n base -c defaults conda >/content/02_conda_update.log"
   ]
  },
  {
   "cell_type": "markdown",
   "metadata": {
    "id": "etFMZ4niTVno"
   },
   "source": [
    "## Install Python 3.8 + Poetry"
   ]
  },
  {
   "cell_type": "code",
   "execution_count": 5,
   "metadata": {
    "id": "82afkQOqQTcx"
   },
   "outputs": [],
   "source": [
    "%%bash -s \"$CONDA_ENVIRONMENT\"\n",
    "/content/anaconda3/bin/conda create -n ${1} python=3.8 poetry --yes >/content/03_conda_create.log"
   ]
  },
  {
   "cell_type": "markdown",
   "metadata": {
    "id": "mrJZ4cb4XKpX"
   },
   "source": [
    "# Clone Projects"
   ]
  },
  {
   "cell_type": "code",
   "execution_count": 6,
   "metadata": {
    "colab": {
     "base_uri": "https://localhost:8080/"
    },
    "id": "r9T0-Pz2U6uw",
    "outputId": "4a09b4b6-a6a7-4dc6-d7c8-903d86c58c44"
   },
   "outputs": [
    {
     "name": "stderr",
     "output_type": "stream",
     "text": [
      "Cloning into 'qmlcourse'...\n",
      "Cloning into 'qmlcourse_walkthrough'...\n"
     ]
    }
   ],
   "source": [
    "%%bash\n",
    "\n",
    "git clone https://github.com/SemyonSinchenko/qmlcourse\n",
    "git clone https://github.com/chiant1/qmlcourse_walkthrough"
   ]
  },
  {
   "cell_type": "markdown",
   "metadata": {
    "id": "q3T9dIy0XTMH"
   },
   "source": [
    "# Install Poetry Environment"
   ]
  },
  {
   "cell_type": "code",
   "execution_count": 7,
   "metadata": {
    "id": "oLY4LH27VskB"
   },
   "outputs": [],
   "source": [
    "%%bash -s \"$CONDA_ENV_PATH\"\n",
    "cd qmlcourse && PYTHONPATH=${1}/lib/python3.8/site-packages ${1}/bin/poetry install >/content/04_poetry_install.log"
   ]
  },
  {
   "cell_type": "markdown",
   "metadata": {
    "id": "dOW-cDQko8UX"
   },
   "source": [
    "# Install, Configure and Start SSH"
   ]
  },
  {
   "cell_type": "code",
   "execution_count": 8,
   "metadata": {
    "colab": {
     "base_uri": "https://localhost:8080/"
    },
    "id": "YvsQ_fxLo-Tl",
    "outputId": "4b7a7962-6033-4839-862b-379eb4659c2f"
   },
   "outputs": [
    {
     "name": "stdout",
     "output_type": "stream",
     "text": [
      " * Restarting OpenBSD Secure Shell server sshd\n",
      "   ...done.\n"
     ]
    }
   ],
   "source": [
    "%%bash -s \"$SSH_CONFIG_DIR\"\n",
    "apt-get install -y ssh tmux vim >/content/05_install_ssh.log\n",
    "\n",
    "# Configurate SSH\n",
    "mkdir -p /root/.ssh\n",
    "cp ${1}/config ${HOME}/.ssh  \n",
    "cp ${1}/authorized_keys ${HOME}/.ssh  \n",
    "\n",
    "# Restart SSH Service\n",
    "service ssh restart"
   ]
  },
  {
   "cell_type": "markdown",
   "metadata": {
    "id": "EUC4hQokdK_o"
   },
   "source": [
    "# Run Jupyter & SSH Port Forwarding (via ngrok)"
   ]
  },
  {
   "cell_type": "code",
   "execution_count": 9,
   "metadata": {
    "colab": {
     "base_uri": "https://localhost:8080/"
    },
    "id": "UlfxjLFPdHQ0",
    "outputId": "e593d4c2-a884-4ee6-9295-65449523f1d5"
   },
   "outputs": [
    {
     "name": "stdout",
     "output_type": "stream",
     "text": [
      "Process is interrupted.\n"
     ]
    }
   ],
   "source": [
    "%%bash -s \"$CONDA_ENV_PATH\"\n",
    "\n",
    "# \"Fix\" google.colab extensions :)\n",
    "rm -f /etc/ipython/ipython_config.py /etc/jupyter/jupyter_notebook_config.py\n",
    "\n",
    "# Run Jupyter Notebook\n",
    "cd qmlcourse && PYTHONPATH=${1}/lib/python3.8/site-packages \\\n",
    "  nohup ${1}/bin/poetry run jupyter notebook \\\n",
    "  --no-browser --notebook-dir=/content --allow-root --ip=localhost --port=8888 \\\n",
    "  --NotebookApp.token='' \\\n",
    "  --NotebookApp.nbserver_extensions=\"{'google.colab._serverextension':False}\" >/content/06_run_jupyter.log 2>&1 &\n",
    "\n",
    "# Set up ngrok SSH tunnel\n",
    "ssh -R 0:localhost:22 tunnel.us.ngrok.com tcp 22\n"
   ]
  },
  {
   "cell_type": "markdown",
   "metadata": {
    "id": "EJjFg2_k90Fh"
   },
   "source": [
    "# What's next?\n",
    "- Go to [ngrok.com / Endpoints](https://dashboard.ngrok.com/endpoints/status). Find your Endpoint URL. For example: **```tcp://6.tcp.ngrok.io:12345```**\n",
    "- Set up SSH Local port Forwarding for Jupyter. For the example above: **```ssh -L 8888:127.0.0.1:8888 -o StrictHostKeyChecking=no -o \"UserKnownHostsFile /dev/null\" -oPort=12345 6.tcp.ngrok.io```**\n",
    "- Go to [Jupyter](http://localhost:8888) though SSH tunnel: **```http://127.0.0.1:8888```**\n",
    "- <font color=\"red\">If you find **ANY** security vulnerability in this scheme **PLEASE** make me know via GitHub [Issues](https://github.com/chiant1/qmlcourse_walkthrough/issues)</font>"
   ]
  },
  {
   "cell_type": "code",
   "execution_count": 9,
   "metadata": {
    "id": "UkzBbgdWBWrt"
   },
   "outputs": [],
   "source": [
    ""
   ]
  }
 ],
 "metadata": {
  "colab": {
   "collapsed_sections": [],
   "name": "QMLCourse - Python3.8, Poetry and Jupyter in Colab via ngrok and SSH.ipynb",
   "provenance": []
  },
  "kernelspec": {
   "display_name": "Python 3",
   "name": "python3"
  },
  "language_info": {
   "name": "python"
  }
 },
 "nbformat": 4,
 "nbformat_minor": 0
}
