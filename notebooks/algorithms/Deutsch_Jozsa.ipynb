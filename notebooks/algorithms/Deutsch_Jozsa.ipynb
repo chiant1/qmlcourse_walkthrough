{
 "cells": [
  {
   "cell_type": "code",
   "execution_count": 1,
   "id": "b80151d6",
   "metadata": {},
   "outputs": [],
   "source": [
    "import pennylane as qml\n",
    "from pennylane import numpy as np"
   ]
  },
  {
   "cell_type": "code",
   "execution_count": 2,
   "id": "83f151ec",
   "metadata": {},
   "outputs": [],
   "source": [
    "# Oracle unitary operatior\n",
    "\n",
    "U_f1 = np.array([[1,0,0,0],\n",
    "                 [0,1,0,0],\n",
    "                 [0,0,1,0],\n",
    "                 [0,0,0,1]])\n",
    "\n",
    "U_f2 = np.array([[0,0,1,0],\n",
    "                 [0,0,0,1],\n",
    "                 [1,0,0,0],\n",
    "                 [0,1,0,0]])\n",
    "\n",
    "U_f3 = np.array([[1,0,0,0],\n",
    "                 [0,1,0,0],\n",
    "                 [0,0,0,1],\n",
    "                 [0,0,1,0]])\n",
    "\n",
    "U_f4 = np.array([[0,1,0,0],\n",
    "                 [1,0,0,0],\n",
    "                 [0,0,1,0],\n",
    "                 [0,0,0,1]])\n"
   ]
  },
  {
   "cell_type": "code",
   "execution_count": 3,
   "id": "4bb5a9e6",
   "metadata": {},
   "outputs": [],
   "source": [
    "device = qml.device('default.qubit', shots=None, wires=2)"
   ]
  },
  {
   "cell_type": "code",
   "execution_count": 4,
   "id": "8cb59274",
   "metadata": {},
   "outputs": [],
   "source": [
    "def f1():\n",
    "    pass\n",
    "\n",
    "def f2():\n",
    "    qml.PauliX(wires=[1])\n",
    "\n",
    "def f3():\n",
    "    qml.CNOT(wires=[0, 1])\n",
    "\n",
    "def f4():\n",
    "    qml.PauliX(wires=0)\n",
    "    qml.CNOT(wires=[0, 1])\n",
    "    qml.PauliX(wires=0)"
   ]
  },
  {
   "cell_type": "code",
   "execution_count": 5,
   "id": "ef81dd71",
   "metadata": {},
   "outputs": [
    {
     "name": "stdout",
     "output_type": "stream",
     "text": [
      " 0: ──H─────╭U0──H──┤ Probs \n",
      " 1: ──X──H──╰U0─────┤       \n",
      "U0 =\n",
      "[[1 0 0 0]\n",
      " [0 1 0 0]\n",
      " [0 0 1 0]\n",
      " [0 0 0 1]]\n",
      "\n",
      "probs: [1. 0.]\n"
     ]
    }
   ],
   "source": [
    "@qml.qnode(device)\n",
    "def circuit(U):\n",
    "    qml.Hadamard(wires=0)\n",
    "    qml.PauliX(wires=1)\n",
    "    qml.Hadamard(wires=1)\n",
    "    qml.QubitUnitary(U, wires=[0,1])\n",
    "    qml.Hadamard(wires=0)\n",
    "    return qml.probs(wires=[0])\n",
    "              \n",
    "probs = circuit(U_f1)\n",
    "print (circuit.draw())\n",
    "print (f\"probs: {probs}\")"
   ]
  },
  {
   "cell_type": "markdown",
   "id": "e70ff26c",
   "metadata": {},
   "source": [
    "## With a Cat"
   ]
  },
  {
   "cell_type": "code",
   "execution_count": 6,
   "id": "677921d0",
   "metadata": {},
   "outputs": [
    {
     "name": "stdout",
     "output_type": "stream",
     "text": [
      "probs: [1. 0.]\n",
      "probs: [1. 0.]\n",
      "probs: [0.146447 0.853553]\n",
      "probs: [0.146447 0.853553]\n"
     ]
    }
   ],
   "source": [
    "#@qml.qnode(device)\n",
    "def circuit_U(U):\n",
    "    qml.Hadamard(wires=0)\n",
    "    qml.PauliX(wires=1)\n",
    "    #qml.Hadamard(wires=1)\n",
    "    #qml.RY(1*np.pi/4, wires=1)\n",
    "    qml.RY(3*np.pi/4, wires=1)\n",
    "    qml.QubitUnitary(U, wires=[0,1])\n",
    "    qml.Hadamard(wires=0)\n",
    "    return qml.probs(wires=[0])\n",
    "              \n",
    "for U in [U_f1, U_f2, U_f3, U_f4]:\n",
    "    device = qml.device('default.qubit', shots=None, wires=2)\n",
    "    probs = qml.QNode(circuit_U, device)(U)\n",
    "    print (f\"probs: {probs.round(6)}\")"
   ]
  },
  {
   "cell_type": "markdown",
   "id": "c50288e4",
   "metadata": {},
   "source": [
    "## Broken circuit"
   ]
  },
  {
   "cell_type": "code",
   "execution_count": 7,
   "id": "3692f212",
   "metadata": {},
   "outputs": [
    {
     "name": "stdout",
     "output_type": "stream",
     "text": [
      " 0: ──H─────────────╭U0──H──┤ Probs \n",
      " 1: ──X──RY(0.785)──╰U0─────┤       \n",
      "U0 =\n",
      "[[1 0 0 0]\n",
      " [0 1 0 0]\n",
      " [0 0 0 1]\n",
      " [0 0 1 0]]\n",
      "\n",
      "probs: [0.14644661 0.85355339]\n"
     ]
    }
   ],
   "source": [
    "@qml.qnode(device)\n",
    "def circuit(U):\n",
    "    qml.Hadamard(wires=0)\n",
    "    qml.PauliX(wires=1)\n",
    "    qml.RY(1*np.pi/4, wires=1)\n",
    "    qml.QubitUnitary(U, wires=[0,1])\n",
    "    qml.Hadamard(wires=0)\n",
    "    return qml.probs(wires=[0])\n",
    "              \n",
    "probs = circuit(U_f3)\n",
    "print (circuit.draw())\n",
    "print (f\"probs: {probs}\")"
   ]
  },
  {
   "cell_type": "code",
   "execution_count": null,
   "id": "e1050e2c",
   "metadata": {},
   "outputs": [],
   "source": []
  }
 ],
 "metadata": {
  "kernelspec": {
   "display_name": "Python 3 (ipykernel)",
   "language": "python",
   "name": "python3"
  },
  "language_info": {
   "codemirror_mode": {
    "name": "ipython",
    "version": 3
   },
   "file_extension": ".py",
   "mimetype": "text/x-python",
   "name": "python",
   "nbconvert_exporter": "python",
   "pygments_lexer": "ipython3",
   "version": "3.8.12"
  }
 },
 "nbformat": 4,
 "nbformat_minor": 5
}
