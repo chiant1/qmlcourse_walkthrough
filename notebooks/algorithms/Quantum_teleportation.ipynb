{
 "cells": [
  {
   "cell_type": "markdown",
   "id": "5319e092",
   "metadata": {},
   "source": [
    "# Qiskit implementation"
   ]
  },
  {
   "cell_type": "code",
   "execution_count": 1,
   "id": "888676af",
   "metadata": {},
   "outputs": [
    {
     "name": "stdout",
     "output_type": "stream",
     "text": [
      "__version__: 0.18.3\n"
     ]
    }
   ],
   "source": [
    "import qiskit\n",
    "import numpy as np\n",
    "\n",
    "print (f\"__version__: {qiskit.__version__}\")\n",
    "\n",
    "from qiskit import transpile, QuantumCircuit, ClassicalRegister, QuantumRegister\n",
    "from qiskit.providers.aer import QasmSimulator\n",
    "from qiskit.visualization import plot_histogram\n",
    "\n",
    "import matplotlib.pyplot as plt\n",
    "%matplotlib inline"
   ]
  },
  {
   "cell_type": "code",
   "execution_count": 2,
   "id": "0aef46e2",
   "metadata": {},
   "outputs": [],
   "source": [
    "qr = QuantumRegister(3, name=\"q\")\n",
    "\n",
    "crz = ClassicalRegister(1, name=\"crz\")\n",
    "crx = ClassicalRegister(1, name=\"crx\")\n",
    "\n",
    "answer = ClassicalRegister(1, name=\"answer\")"
   ]
  },
  {
   "cell_type": "code",
   "execution_count": 3,
   "id": "9b40ed58",
   "metadata": {},
   "outputs": [],
   "source": [
    "qc = QuantumCircuit(qr, crz, crx, answer)"
   ]
  },
  {
   "cell_type": "code",
   "execution_count": 4,
   "id": "9becc386",
   "metadata": {},
   "outputs": [
    {
     "data": {
      "text/plain": [
       "<qiskit.circuit.instructionset.InstructionSet at 0x7f8089931580>"
      ]
     },
     "execution_count": 4,
     "metadata": {},
     "output_type": "execute_result"
    }
   ],
   "source": [
    "qc.ry(np.pi/2, 0)  # Set qubit to the |+⟩ state\n",
    "#qc.ry(-np.pi/2, 0) # Set qubit to the |-⟩ state\n",
    "\n",
    "# Measurement in the Hadamard basis\n",
    "# qc.h(qr[0])\n",
    "# qc.measure(qr[0], answer)  \n",
    "\n",
    "# Step 1\n",
    "qc.h(qr[1])\n",
    "\n",
    "# Step 2\n",
    "qc.cx(qr[1], qr[2])\n",
    "\n",
    "# Step 3\n",
    "qc.cx(qr[0], qr[1])\n",
    "\n",
    "# Step 4\n",
    "qc.h(qr[0])\n",
    "\n",
    "# Step 5 - Alice's measurements\n",
    "qc.measure(qr[0], crz)\n",
    "qc.measure(qr[1], crx)\n",
    "\n",
    "# Step 6 - Bob's conditional X/Z gates\n",
    "qc.x(qr[2]).c_if(crx, 1)\n",
    "qc.z(qr[2]).c_if(crz, 1)\n",
    "\n",
    "# Measurement in the Hadamard basis\n",
    "qc.h(qr[2])\n",
    "qc.measure(qr[2], answer)"
   ]
  },
  {
   "cell_type": "code",
   "execution_count": 5,
   "id": "681cbc74",
   "metadata": {},
   "outputs": [
    {
     "data": {
      "image/png": "[encoded data removed]",
      "text/plain": [
       "<Figure size 677.281x385.28 with 1 Axes>"
      ]
     },
     "execution_count": 5,
     "metadata": {},
     "output_type": "execute_result"
    }
   ],
   "source": [
    "qc.draw(output=\"mpl\")"
   ]
  },
  {
   "cell_type": "markdown",
   "id": "f63557eb",
   "metadata": {},
   "source": [
    "## Simulation"
   ]
  },
  {
   "cell_type": "code",
   "execution_count": 6,
   "id": "411d0369",
   "metadata": {},
   "outputs": [
    {
     "name": "stdout",
     "output_type": "stream",
     "text": [
      "{'0 0 1': 24989, '0 0 0': 24971, '0 1 1': 24852, '0 1 0': 25188}\n"
     ]
    }
   ],
   "source": [
    "simulator = QasmSimulator()\n",
    "\n",
    "compiled_circuit = transpile(qc, simulator)\n",
    "job = simulator.run(compiled_circuit, shots=100000)\n",
    "\n",
    "result = job.result()\n",
    "counts = result.get_counts(compiled_circuit)\n",
    "print (counts)"
   ]
  },
  {
   "cell_type": "code",
   "execution_count": 7,
   "id": "6b917b74",
   "metadata": {},
   "outputs": [
    {
     "data": {
      "image/png": "[encoded data removed]",
      "text/plain": [
       "<Figure size 504x360 with 1 Axes>"
      ]
     },
     "execution_count": 7,
     "metadata": {},
     "output_type": "execute_result"
    }
   ],
   "source": [
    "plot_histogram(counts)"
   ]
  },
  {
   "cell_type": "markdown",
   "id": "6c25ff9d",
   "metadata": {},
   "source": [
    "# PennyLane implementation"
   ]
  },
  {
   "cell_type": "code",
   "execution_count": 8,
   "id": "db3ad9c3",
   "metadata": {},
   "outputs": [],
   "source": [
    "import pennylane as qml\n",
    "import pandas as pd\n",
    "from pennylane import numpy as np"
   ]
  },
  {
   "cell_type": "code",
   "execution_count": 9,
   "id": "2a9e6b46",
   "metadata": {},
   "outputs": [
    {
     "name": "stdout",
     "output_type": "stream",
     "text": [
      " 0: ──RY(1.57)──────╭C──H──╭┤ Probs \n",
      " 1: ──H─────────╭C──╰X─────├┤ Probs \n",
      " 2: ────────────╰X───H─────╰┤ Probs \n",
      "\n",
      "probs_0: [0.25 0.   0.25 0.   0.   0.25 0.   0.25]\n"
     ]
    }
   ],
   "source": [
    "device = qml.device('default.qubit', shots=None, wires=3)\n",
    "\n",
    "@qml.qnode(device)\n",
    "def circuit(sign):\n",
    "    \n",
    "    # Set qubit to the |+⟩ or |-⟩ state\n",
    "    qml.RY(sign * np.pi/2, wires=0)\n",
    "        \n",
    "    qml.Hadamard(wires=1)\n",
    "    qml.CNOT(wires=[1,2])\n",
    "    qml.CNOT(wires=[0,1])\n",
    "    qml.Hadamard(wires=0)\n",
    "    \n",
    "    # Measurement in the Hadamard basis\n",
    "    qml.Hadamard(wires=2)\n",
    "    return qml.probs(wires=[0,1,2])\n",
    "\n",
    "probs_0 = circuit(1.0)\n",
    "print (circuit.draw())\n",
    "print (f\"probs_0: {np.round(probs_0,6)}\")"
   ]
  },
  {
   "cell_type": "code",
   "execution_count": 10,
   "id": "54f4f9d0",
   "metadata": {},
   "outputs": [
    {
     "name": "stdout",
     "output_type": "stream",
     "text": [
      " 0: ──RY(-1.57)──────╭C──H──╭┤ Probs \n",
      " 1: ──H──────────╭C──╰X─────├┤ Probs \n",
      " 2: ─────────────╰X───H─────╰┤ Probs \n",
      "\n",
      "probs_1: [0.   0.25 0.   0.25 0.25 0.   0.25 0.  ]\n"
     ]
    }
   ],
   "source": [
    "device = qml.device('default.qubit', shots=None, wires=3)\n",
    "\n",
    "@qml.qnode(device)\n",
    "def circuit(sign):\n",
    "    \n",
    "    # Set qubit to the |+⟩ or |-⟩ state\n",
    "    qml.RY(sign * np.pi/2, wires=0)\n",
    "        \n",
    "    qml.Hadamard(wires=1)\n",
    "    qml.CNOT(wires=[1,2])\n",
    "    qml.CNOT(wires=[0,1])\n",
    "    qml.Hadamard(wires=0)\n",
    "    \n",
    "    # Measurement in the Hadamard basis\n",
    "    qml.Hadamard(wires=2)\n",
    "    return qml.probs(wires=[0,1,2])\n",
    "\n",
    "probs_1 = circuit(-1.0)\n",
    "print (circuit.draw())\n",
    "print (f\"probs_1: {np.round(probs_1,6)}\")"
   ]
  },
  {
   "cell_type": "code",
   "execution_count": 11,
   "id": "11928b0f",
   "metadata": {},
   "outputs": [
    {
     "data": {
      "text/html": [
       "<div>\n",
       "<style scoped>\n",
       "    .dataframe tbody tr th:only-of-type {\n",
       "        vertical-align: middle;\n",
       "    }\n",
       "\n",
       "    .dataframe tbody tr th {\n",
       "        vertical-align: top;\n",
       "    }\n",
       "\n",
       "    .dataframe thead th {\n",
       "        text-align: right;\n",
       "    }\n",
       "</style>\n",
       "<table border=\"1\" class=\"dataframe\">\n",
       "  <thead>\n",
       "    <tr style=\"text-align: right;\">\n",
       "      <th></th>\n",
       "      <th>0</th>\n",
       "      <th>1</th>\n",
       "      <th>2</th>\n",
       "      <th>probs_0</th>\n",
       "      <th>probs_1</th>\n",
       "    </tr>\n",
       "  </thead>\n",
       "  <tbody>\n",
       "    <tr>\n",
       "      <th>0</th>\n",
       "      <td>0</td>\n",
       "      <td>0</td>\n",
       "      <td>0</td>\n",
       "      <td>0.25</td>\n",
       "      <td>0.00</td>\n",
       "    </tr>\n",
       "    <tr>\n",
       "      <th>1</th>\n",
       "      <td>0</td>\n",
       "      <td>0</td>\n",
       "      <td>1</td>\n",
       "      <td>0.00</td>\n",
       "      <td>0.25</td>\n",
       "    </tr>\n",
       "    <tr>\n",
       "      <th>2</th>\n",
       "      <td>0</td>\n",
       "      <td>1</td>\n",
       "      <td>0</td>\n",
       "      <td>0.25</td>\n",
       "      <td>0.00</td>\n",
       "    </tr>\n",
       "    <tr>\n",
       "      <th>3</th>\n",
       "      <td>0</td>\n",
       "      <td>1</td>\n",
       "      <td>1</td>\n",
       "      <td>0.00</td>\n",
       "      <td>0.25</td>\n",
       "    </tr>\n",
       "    <tr>\n",
       "      <th>4</th>\n",
       "      <td>1</td>\n",
       "      <td>0</td>\n",
       "      <td>0</td>\n",
       "      <td>0.00</td>\n",
       "      <td>0.25</td>\n",
       "    </tr>\n",
       "    <tr>\n",
       "      <th>5</th>\n",
       "      <td>1</td>\n",
       "      <td>0</td>\n",
       "      <td>1</td>\n",
       "      <td>0.25</td>\n",
       "      <td>0.00</td>\n",
       "    </tr>\n",
       "    <tr>\n",
       "      <th>6</th>\n",
       "      <td>1</td>\n",
       "      <td>1</td>\n",
       "      <td>0</td>\n",
       "      <td>0.00</td>\n",
       "      <td>0.25</td>\n",
       "    </tr>\n",
       "    <tr>\n",
       "      <th>7</th>\n",
       "      <td>1</td>\n",
       "      <td>1</td>\n",
       "      <td>1</td>\n",
       "      <td>0.25</td>\n",
       "      <td>0.00</td>\n",
       "    </tr>\n",
       "  </tbody>\n",
       "</table>\n",
       "</div>"
      ],
      "text/plain": [
       "   0  1  2  probs_0  probs_1\n",
       "0  0  0  0     0.25     0.00\n",
       "1  0  0  1     0.00     0.25\n",
       "2  0  1  0     0.25     0.00\n",
       "3  0  1  1     0.00     0.25\n",
       "4  1  0  0     0.00     0.25\n",
       "5  1  0  1     0.25     0.00\n",
       "6  1  1  0     0.00     0.25\n",
       "7  1  1  1     0.25     0.00"
      ]
     },
     "execution_count": 11,
     "metadata": {},
     "output_type": "execute_result"
    }
   ],
   "source": [
    "ds = pd.DataFrame()\n",
    "ds[0] = np.arange(8) // 4 % 2\n",
    "ds[1] = np.arange(8) // 2 % 2\n",
    "ds[2] = np.arange(8) // 1 % 2\n",
    "ds['probs_0'] = probs_0.round(6)\n",
    "ds['probs_1'] = probs_1.round(6)\n",
    "ds"
   ]
  },
  {
   "cell_type": "code",
   "execution_count": 12,
   "id": "c60b26dd",
   "metadata": {},
   "outputs": [
    {
     "data": {
      "text/html": [
       "<div>\n",
       "<style scoped>\n",
       "    .dataframe tbody tr th:only-of-type {\n",
       "        vertical-align: middle;\n",
       "    }\n",
       "\n",
       "    .dataframe tbody tr th {\n",
       "        vertical-align: top;\n",
       "    }\n",
       "\n",
       "    .dataframe thead th {\n",
       "        text-align: right;\n",
       "    }\n",
       "</style>\n",
       "<table border=\"1\" class=\"dataframe\">\n",
       "  <thead>\n",
       "    <tr style=\"text-align: right;\">\n",
       "      <th></th>\n",
       "      <th>0</th>\n",
       "      <th>1</th>\n",
       "      <th>2</th>\n",
       "    </tr>\n",
       "  </thead>\n",
       "  <tbody>\n",
       "    <tr>\n",
       "      <th>0</th>\n",
       "      <td>0</td>\n",
       "      <td>0</td>\n",
       "      <td>0</td>\n",
       "    </tr>\n",
       "    <tr>\n",
       "      <th>2</th>\n",
       "      <td>0</td>\n",
       "      <td>1</td>\n",
       "      <td>0</td>\n",
       "    </tr>\n",
       "    <tr>\n",
       "      <th>5</th>\n",
       "      <td>1</td>\n",
       "      <td>0</td>\n",
       "      <td>1</td>\n",
       "    </tr>\n",
       "    <tr>\n",
       "      <th>7</th>\n",
       "      <td>1</td>\n",
       "      <td>1</td>\n",
       "      <td>1</td>\n",
       "    </tr>\n",
       "  </tbody>\n",
       "</table>\n",
       "</div>"
      ],
      "text/plain": [
       "   0  1  2\n",
       "0  0  0  0\n",
       "2  0  1  0\n",
       "5  1  0  1\n",
       "7  1  1  1"
      ]
     },
     "execution_count": 12,
     "metadata": {},
     "output_type": "execute_result"
    }
   ],
   "source": [
    "ds[ds['probs_0'] > 0][[0,1,2]]"
   ]
  },
  {
   "cell_type": "markdown",
   "id": "cbf796c7",
   "metadata": {},
   "source": [
    "### If we loose upper qubit (Z) measurement, then everything is lost: |+⟩ and |-⟩ are indistinguishable"
   ]
  },
  {
   "cell_type": "code",
   "execution_count": 13,
   "id": "fb4273ab",
   "metadata": {},
   "outputs": [
    {
     "data": {
      "text/html": [
       "<div>\n",
       "<style scoped>\n",
       "    .dataframe tbody tr th:only-of-type {\n",
       "        vertical-align: middle;\n",
       "    }\n",
       "\n",
       "    .dataframe tbody tr th {\n",
       "        vertical-align: top;\n",
       "    }\n",
       "\n",
       "    .dataframe thead th {\n",
       "        text-align: right;\n",
       "    }\n",
       "</style>\n",
       "<table border=\"1\" class=\"dataframe\">\n",
       "  <thead>\n",
       "    <tr style=\"text-align: right;\">\n",
       "      <th></th>\n",
       "      <th>1</th>\n",
       "      <th>2</th>\n",
       "      <th>value</th>\n",
       "    </tr>\n",
       "  </thead>\n",
       "  <tbody>\n",
       "    <tr>\n",
       "      <th>0</th>\n",
       "      <td>0</td>\n",
       "      <td>0</td>\n",
       "      <td>0.5</td>\n",
       "    </tr>\n",
       "    <tr>\n",
       "      <th>1</th>\n",
       "      <td>0</td>\n",
       "      <td>1</td>\n",
       "      <td>0.5</td>\n",
       "    </tr>\n",
       "    <tr>\n",
       "      <th>2</th>\n",
       "      <td>1</td>\n",
       "      <td>0</td>\n",
       "      <td>0.5</td>\n",
       "    </tr>\n",
       "    <tr>\n",
       "      <th>3</th>\n",
       "      <td>1</td>\n",
       "      <td>1</td>\n",
       "      <td>0.5</td>\n",
       "    </tr>\n",
       "  </tbody>\n",
       "</table>\n",
       "</div>"
      ],
      "text/plain": [
       "   1  2  value\n",
       "0  0  0    0.5\n",
       "1  0  1    0.5\n",
       "2  1  0    0.5\n",
       "3  1  1    0.5"
      ]
     },
     "execution_count": 13,
     "metadata": {},
     "output_type": "execute_result"
    }
   ],
   "source": [
    "ds_0 = ds[ds['probs_0'] > 0][[0,1,2]].copy()\n",
    "ds_0['value'] = 0\n",
    "ds_1 = ds[ds['probs_1'] > 0][[0,1,2]].copy()\n",
    "ds_1['value'] = 1\n",
    "tmp = pd.concat([ds_0,ds_1]).reset_index(drop=True)\n",
    "tmp.groupby([1,2])['value'].mean().reset_index()"
   ]
  },
  {
   "cell_type": "markdown",
   "id": "e6dcd973",
   "metadata": {},
   "source": [
    "### If we loose middle qubit (X) measurement, then we can distinguish  |+⟩ and |-⟩"
   ]
  },
  {
   "cell_type": "code",
   "execution_count": 14,
   "id": "e6d2ebac",
   "metadata": {},
   "outputs": [
    {
     "data": {
      "text/html": [
       "<div>\n",
       "<style scoped>\n",
       "    .dataframe tbody tr th:only-of-type {\n",
       "        vertical-align: middle;\n",
       "    }\n",
       "\n",
       "    .dataframe tbody tr th {\n",
       "        vertical-align: top;\n",
       "    }\n",
       "\n",
       "    .dataframe thead th {\n",
       "        text-align: right;\n",
       "    }\n",
       "</style>\n",
       "<table border=\"1\" class=\"dataframe\">\n",
       "  <thead>\n",
       "    <tr style=\"text-align: right;\">\n",
       "      <th></th>\n",
       "      <th>0</th>\n",
       "      <th>2</th>\n",
       "      <th>value</th>\n",
       "    </tr>\n",
       "  </thead>\n",
       "  <tbody>\n",
       "    <tr>\n",
       "      <th>0</th>\n",
       "      <td>0</td>\n",
       "      <td>0</td>\n",
       "      <td>0.0</td>\n",
       "    </tr>\n",
       "    <tr>\n",
       "      <th>1</th>\n",
       "      <td>0</td>\n",
       "      <td>1</td>\n",
       "      <td>1.0</td>\n",
       "    </tr>\n",
       "    <tr>\n",
       "      <th>2</th>\n",
       "      <td>1</td>\n",
       "      <td>0</td>\n",
       "      <td>1.0</td>\n",
       "    </tr>\n",
       "    <tr>\n",
       "      <th>3</th>\n",
       "      <td>1</td>\n",
       "      <td>1</td>\n",
       "      <td>0.0</td>\n",
       "    </tr>\n",
       "  </tbody>\n",
       "</table>\n",
       "</div>"
      ],
      "text/plain": [
       "   0  2  value\n",
       "0  0  0    0.0\n",
       "1  0  1    1.0\n",
       "2  1  0    1.0\n",
       "3  1  1    0.0"
      ]
     },
     "execution_count": 14,
     "metadata": {},
     "output_type": "execute_result"
    }
   ],
   "source": [
    "ds_0 = ds[ds['probs_0'] > 0][[0,1,2]].copy()\n",
    "ds_0['value'] = 0\n",
    "ds_1 = ds[ds['probs_1'] > 0][[0,1,2]].copy()\n",
    "ds_1['value'] = 1\n",
    "tmp = pd.concat([ds_0,ds_1]).reset_index(drop=True)\n",
    "tmp.groupby([0,2])['value'].mean().reset_index()"
   ]
  },
  {
   "cell_type": "code",
   "execution_count": null,
   "id": "972653b4",
   "metadata": {},
   "outputs": [],
   "source": []
  }
 ],
 "metadata": {
  "kernelspec": {
   "display_name": "Python 3 (ipykernel)",
   "language": "python",
   "name": "python3"
  },
  "language_info": {
   "codemirror_mode": {
    "name": "ipython",
    "version": 3
   },
   "file_extension": ".py",
   "mimetype": "text/x-python",
   "name": "python",
   "nbconvert_exporter": "python",
   "pygments_lexer": "ipython3",
   "version": "3.8.12"
  }
 },
 "nbformat": 4,
 "nbformat_minor": 5
}
