{
 "cells": [
  {
   "cell_type": "code",
   "execution_count": 1,
   "id": "58b8b7b3",
   "metadata": {},
   "outputs": [
    {
     "name": "stdout",
     "output_type": "stream",
     "text": [
      "n: 5, m: 32, iterations: 4\n"
     ]
    }
   ],
   "source": [
    "n = 5\n",
    "m = 2 ** n\n",
    "iterations = 4\n",
    "\n",
    "print (f\"n: {n}, m: {m}, iterations: {iterations}\")"
   ]
  },
  {
   "cell_type": "markdown",
   "id": "37f7e20e",
   "metadata": {},
   "source": [
    "# Theoretical error"
   ]
  },
  {
   "cell_type": "code",
   "execution_count": 2,
   "id": "73b8b58c",
   "metadata": {},
   "outputs": [
    {
     "name": "stdout",
     "output_type": "stream",
     "text": [
      "a = 0.9999999999999999\n",
      "b = 0.9999999999999999\n",
      "x = 0.9842509842514762\n",
      "y = 0.17677669529663687\n",
      "phi = 0.17771060084511178\n",
      "i-0 angle: 0.17771060084511178 error: 0.96875\n",
      "i-1 angle: 0.5331318025353353 error: 0.7416992187499999\n",
      "i-2 angle: 0.8885530042255589 error: 0.39757537841796853\n",
      "i-3 angle: 1.2439742059157826 error: 0.10306346416473368\n",
      "i-4 angle: 1.599395407606006 error: 0.0008176844567060608\n",
      "i-5 angle: 1.9548166092962296 error: 0.14036333883996147\n"
     ]
    }
   ],
   "source": [
    "import numpy as np\n",
    "\n",
    "a = np.ones(m, dtype=complex) / np.sqrt(m)\n",
    "b = np.ones(m-1, dtype=complex) / np.sqrt(m-1)\n",
    "print (f\"a = {abs(a.conj().T @ a)}\")\n",
    "print (f\"b = {abs(b.conj().T @ b)}\")\n",
    "x = a[0]/b[0]\n",
    "y = a[0]\n",
    "print (f\"x = {np.abs(x)}\")\n",
    "print (f\"y = {np.abs(y)}\")\n",
    "phi = np.arctan(np.abs(y/x))\n",
    "print (f\"phi = {phi}\")\n",
    "\n",
    "for t in range(6):\n",
    "    angle_t = phi * (2*t + 1)\n",
    "    sin = np.sin(angle_t)\n",
    "    cos = np.cos(angle_t)\n",
    "    #error = cos**2/sin**2\n",
    "    error = np.cos(angle_t) ** 2\n",
    "    print (f\"i-{t} angle: {angle_t} error: {error}\")\n"
   ]
  },
  {
   "cell_type": "markdown",
   "id": "b5af00d7",
   "metadata": {},
   "source": [
    "# PennyLane implementation"
   ]
  },
  {
   "cell_type": "code",
   "execution_count": 3,
   "id": "7307ba9d",
   "metadata": {},
   "outputs": [],
   "source": [
    "import pennylane as qml\n",
    "from pennylane import numpy as np"
   ]
  },
  {
   "cell_type": "code",
   "execution_count": 4,
   "id": "5f08a34c",
   "metadata": {},
   "outputs": [
    {
     "data": {
      "text/plain": [
       "tensor([[1., 0., 0., ..., 0., 0., 0.],\n",
       "        [0., 1., 0., ..., 0., 0., 0.],\n",
       "        [0., 0., 1., ..., 0., 0., 0.],\n",
       "        ...,\n",
       "        [0., 0., 0., ..., 1., 0., 0.],\n",
       "        [0., 0., 0., ..., 0., 0., 1.],\n",
       "        [0., 0., 0., ..., 0., 1., 0.]], requires_grad=True)"
      ]
     },
     "execution_count": 4,
     "metadata": {},
     "output_type": "execute_result"
    }
   ],
   "source": [
    "# Oracle unitary operatior\n",
    "U = np.eye(2**(n+1))\n",
    "U = np.vstack([U[:-2],U[-2::][::-1]])\n",
    "U"
   ]
  },
  {
   "cell_type": "code",
   "execution_count": 5,
   "id": "ed7a2fe2",
   "metadata": {},
   "outputs": [],
   "source": [
    "device = qml.device('default.qubit', shots=10000000, wires=n+1)"
   ]
  },
  {
   "cell_type": "code",
   "execution_count": 6,
   "id": "a0eb95fe",
   "metadata": {},
   "outputs": [],
   "source": [
    "def U_start():\n",
    "    qml.PauliX(wires=n)\n",
    "    for i in range(n+1):\n",
    "        qml.Hadamard(wires=i)"
   ]
  },
  {
   "cell_type": "code",
   "execution_count": 7,
   "id": "6eb6e787",
   "metadata": {},
   "outputs": [],
   "source": [
    " def U_b():\n",
    "    \"\"\"Apply Oracle\"\"\"\n",
    "    qml.QubitUnitary(U, wires=range(n+1))"
   ]
  },
  {
   "cell_type": "code",
   "execution_count": 8,
   "id": "093e9406",
   "metadata": {},
   "outputs": [],
   "source": [
    " def U_c():\n",
    "    for i in range(n):\n",
    "        qml.Hadamard(wires=i)\n",
    "        qml.PauliX(wires=i)\n",
    "\n",
    "    qml.QubitUnitary(U, wires=range(n+1))\n",
    "    for i in range(n):\n",
    "        qml.PauliX(wires=i)\n",
    "        qml.Hadamard(wires=i)"
   ]
  },
  {
   "cell_type": "code",
   "execution_count": 9,
   "id": "8b72f9fd",
   "metadata": {},
   "outputs": [],
   "source": [
    "def U_iteration():\n",
    "    U_b()\n",
    "    U_c()"
   ]
  },
  {
   "cell_type": "code",
   "execution_count": 10,
   "id": "7688ffc6",
   "metadata": {},
   "outputs": [],
   "source": [
    "@qml.qnode(device)\n",
    "def circuit(N: int):\n",
    "    U_start()\n",
    "    for t in range(N):\n",
    "        U_iteration()\n",
    "    return qml.probs(wires=range(n))"
   ]
  },
  {
   "cell_type": "code",
   "execution_count": 11,
   "id": "86e3518a",
   "metadata": {},
   "outputs": [],
   "source": [
    "probs = circuit(N=iterations)"
   ]
  },
  {
   "cell_type": "code",
   "execution_count": 12,
   "id": "bf4650cc",
   "metadata": {},
   "outputs": [
    {
     "name": "stdout",
     "output_type": "stream",
     "text": [
      " 0: ──H─────╭U0──H──X──╭U0──X──H──╭U0──H──X──╭U0──X──H──╭U0──H──X──╭U0──X──H──╭U0──H──X──╭U0──X──H──╭┤ Probs \n",
      " 1: ──H─────├U0──H──X──├U0──X──H──├U0──H──X──├U0──X──H──├U0──H──X──├U0──X──H──├U0──H──X──├U0──X──H──├┤ Probs \n",
      " 2: ──H─────├U0──H──X──├U0──X──H──├U0──H──X──├U0──X──H──├U0──H──X──├U0──X──H──├U0──H──X──├U0──X──H──├┤ Probs \n",
      " 3: ──H─────├U0──H──X──├U0──X──H──├U0──H──X──├U0──X──H──├U0──H──X──├U0──X──H──├U0──H──X──├U0──X──H──├┤ Probs \n",
      " 4: ──H─────├U0──H──X──├U0──X──H──├U0──H──X──├U0──X──H──├U0──H──X──├U0──X──H──├U0──H──X──├U0──X──H──╰┤ Probs \n",
      " 5: ──X──H──╰U0────────╰U0────────╰U0────────╰U0────────╰U0────────╰U0────────╰U0────────╰U0─────────┤       \n",
      "U0 =\n",
      "[[1. 0. 0. ... 0. 0. 0.]\n",
      " [0. 1. 0. ... 0. 0. 0.]\n",
      " [0. 0. 1. ... 0. 0. 0.]\n",
      " ...\n",
      " [0. 0. 0. ... 1. 0. 0.]\n",
      " [0. 0. 0. ... 0. 0. 1.]\n",
      " [0. 0. 0. ... 0. 1. 0.]]\n",
      "\n"
     ]
    }
   ],
   "source": [
    "print (circuit.draw())"
   ]
  },
  {
   "cell_type": "code",
   "execution_count": 13,
   "id": "b4d928af",
   "metadata": {},
   "outputs": [
    {
     "name": "stdout",
     "output_type": "stream",
     "text": [
      "probs: [2.750000e-05 2.450000e-05 2.630000e-05 2.430000e-05 2.330000e-05\n",
      " 2.520000e-05 2.570000e-05 3.090000e-05 2.570000e-05 2.820000e-05\n",
      " 2.640000e-05 2.670000e-05 2.530000e-05 2.650000e-05 2.470000e-05\n",
      " 2.660000e-05 2.530000e-05 2.590000e-05 2.460000e-05 2.570000e-05\n",
      " 2.660000e-05 2.600000e-05 2.720000e-05 2.640000e-05 2.470000e-05\n",
      " 2.860000e-05 2.510000e-05 2.750000e-05 2.460000e-05 2.530000e-05\n",
      " 2.730000e-05 9.991914e-01]\n",
      "errors: 0.000809\n"
     ]
    }
   ],
   "source": [
    "print (f\"probs: {probs}\")\n",
    "print (f\"errors: {1 - probs[-1]:4f}\")"
   ]
  }
 ],
 "metadata": {
  "kernelspec": {
   "display_name": "Python 3 (ipykernel)",
   "language": "python",
   "name": "python3"
  },
  "language_info": {
   "codemirror_mode": {
    "name": "ipython",
    "version": 3
   },
   "file_extension": ".py",
   "mimetype": "text/x-python",
   "name": "python",
   "nbconvert_exporter": "python",
   "pygments_lexer": "ipython3",
   "version": "3.8.12"
  }
 },
 "nbformat": 4,
 "nbformat_minor": 5
}
