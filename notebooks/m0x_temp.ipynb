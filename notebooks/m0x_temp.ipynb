{
 "cells": [
  {
   "cell_type": "code",
   "execution_count": 153,
   "id": "54920a0d",
   "metadata": {},
   "outputs": [],
   "source": [
    "import numpy as np\n",
    "from numpy import allclose as eq, conj, array, complex128\n",
    "\n",
    "V2 = np.sqrt(2)"
   ]
  },
  {
   "cell_type": "markdown",
   "id": "9f6e523b",
   "metadata": {},
   "source": [
    "# Grover's error"
   ]
  },
  {
   "cell_type": "code",
   "execution_count": 154,
   "id": "18686672",
   "metadata": {},
   "outputs": [
    {
     "name": "stdout",
     "output_type": "stream",
     "text": [
      "a = 0.9999999999999999\n",
      "b = 0.9999999999999999\n",
      "x = 0.9842509842514762\n",
      "y = 0.17677669529663687\n",
      "phi = 0.17771060084511178\n",
      "i-0 angle: 0.17771060084511178 error: 0.96875\n",
      "i-1 angle: 0.5331318025353353 error: 0.7416992187499999\n",
      "i-2 angle: 0.8885530042255589 error: 0.39757537841796853\n",
      "i-3 angle: 1.2439742059157826 error: 0.10306346416473368\n",
      "i-4 angle: 1.599395407606006 error: 0.0008176844567060608\n",
      "i-5 angle: 1.9548166092962296 error: 0.14036333883996147\n"
     ]
    }
   ],
   "source": [
    "n = 32\n",
    "a = np.ones(n, dtype=complex) / np.sqrt(n)\n",
    "b = np.ones(n-1, dtype=complex) / np.sqrt(n-1)\n",
    "print (f\"a = {abs(a.conj().T @ a)}\")\n",
    "print (f\"b = {abs(b.conj().T @ b)}\")\n",
    "x = a[0]/b[0]\n",
    "y = a[0]\n",
    "print (f\"x = {np.abs(x)}\")\n",
    "print (f\"y = {np.abs(y)}\")\n",
    "phi = np.arctan(np.abs(y/x))\n",
    "print (f\"phi = {phi}\")\n",
    "\n",
    "for t in range(6):\n",
    "    angle_t = phi * (2*t + 1)\n",
    "    sin = np.sin(angle_t)\n",
    "    cos = np.cos(angle_t)\n",
    "    #error = cos**2/sin**2\n",
    "    error = np.cos(angle_t) ** 2\n",
    "    print (f\"i-{t} angle: {angle_t} error: {error}\")"
   ]
  },
  {
   "cell_type": "code",
   "execution_count": null,
   "id": "53a1e0f9",
   "metadata": {},
   "outputs": [],
   "source": []
  }
 ],
 "metadata": {
  "kernelspec": {
   "display_name": "Python 3 (ipykernel)",
   "language": "python",
   "name": "python3"
  },
  "language_info": {
   "codemirror_mode": {
    "name": "ipython",
    "version": 3
   },
   "file_extension": ".py",
   "mimetype": "text/x-python",
   "name": "python",
   "nbconvert_exporter": "python",
   "pygments_lexer": "ipython3",
   "version": "3.8.12"
  }
 },
 "nbformat": 4,
 "nbformat_minor": 5
}
