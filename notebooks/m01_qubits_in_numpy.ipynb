{
 "cells": [
  {
   "cell_type": "code",
   "execution_count": 1,
   "id": "54920a0d",
   "metadata": {},
   "outputs": [],
   "source": [
    "import numpy as np\n",
    "from numpy import allclose as eq, conj, array, complex128\n",
    "\n",
    "V2 = np.sqrt(2)"
   ]
  },
  {
   "cell_type": "markdown",
   "id": "0fdfd663",
   "metadata": {},
   "source": [
    "# Basis"
   ]
  },
  {
   "cell_type": "code",
   "execution_count": 2,
   "id": "c01e28b0",
   "metadata": {},
   "outputs": [],
   "source": [
    "basis_0 = array([[1, 0]], dtype=complex).T\n",
    "basis_1 = array([[0, 1]], dtype=complex).T"
   ]
  },
  {
   "cell_type": "code",
   "execution_count": 3,
   "id": "88ebdeec",
   "metadata": {},
   "outputs": [],
   "source": [
    "plus = (basis_0 + basis_1) / V2\n",
    "minus = (basis_0 - basis_1) / V2"
   ]
  },
  {
   "cell_type": "code",
   "execution_count": 4,
   "id": "1dbdc380",
   "metadata": {},
   "outputs": [],
   "source": [
    "R = (basis_0 + 1j * basis_1) / V2\n",
    "L = (basis_0 - 1j * basis_1) / V2"
   ]
  },
  {
   "cell_type": "code",
   "execution_count": 5,
   "id": "1a9e1b16",
   "metadata": {},
   "outputs": [],
   "source": [
    "assert eq(conj(basis_0).T @ basis_1, 0)\n",
    "assert eq(conj(plus).T @ minus, 0)\n",
    "assert eq(conj(R).T @ L, 0)"
   ]
  },
  {
   "cell_type": "markdown",
   "id": "c8dc6123",
   "metadata": {},
   "source": [
    "# Hadamard Gate"
   ]
  },
  {
   "cell_type": "code",
   "execution_count": 6,
   "id": "a0d9f10e",
   "metadata": {},
   "outputs": [],
   "source": [
    "H = array([[1, 1],\n",
    "           [1, -1]], dtype=complex128) / V2"
   ]
  },
  {
   "cell_type": "code",
   "execution_count": 7,
   "id": "939dce2e",
   "metadata": {},
   "outputs": [],
   "source": [
    "assert eq(conj(H) @ H, np.eye(2))\n",
    "assert eq(H @ basis_0, plus)\n",
    "assert eq(H @ plus, basis_0)"
   ]
  },
  {
   "cell_type": "markdown",
   "id": "8bc85bd9",
   "metadata": {},
   "source": [
    "# Pauli Matrices"
   ]
  },
  {
   "cell_type": "code",
   "execution_count": 8,
   "id": "75a8e3ab",
   "metadata": {},
   "outputs": [],
   "source": [
    "pauli_X = array([[0, 1],\n",
    "                 [1, 0]], dtype=complex)\n",
    "\n",
    "pauli_Y = array([[0, -1j],\n",
    "                 [1j, 0]], dtype=complex)\n",
    "\n",
    "pauli_Z = array([[1, 0],\n",
    "                 [0, -1]], dtype=complex)"
   ]
  },
  {
   "cell_type": "markdown",
   "id": "c3beb15c",
   "metadata": {},
   "source": [
    "# Measurements"
   ]
  },
  {
   "cell_type": "code",
   "execution_count": 9,
   "id": "525f4384",
   "metadata": {},
   "outputs": [
    {
     "name": "stdout",
     "output_type": "stream",
     "text": [
      "0: (1+0j)  -> [1.+0.j 0.+0.j]\n",
      "1: (-1+0j) -> [0.+0.j 1.+0.j]\n"
     ]
    }
   ],
   "source": [
    "w, v = np.linalg.eig(pauli_Z)\n",
    "v_0, v_1 = np.expand_dims(v, axis=-1)\n",
    "\n",
    "for i in range(w.shape[0]):\n",
    "    print (f\"{i}: {str(np.round(w[i],10)):7s} -> {v[:,i]}\")\n",
    "\n",
    "assert eq(abs(v_0.conj().T @ basis_0), 1)\n",
    "assert eq(abs(v_1.conj().T @ basis_1), 1)"
   ]
  },
  {
   "cell_type": "code",
   "execution_count": 10,
   "id": "f20615b4",
   "metadata": {},
   "outputs": [
    {
     "name": "stdout",
     "output_type": "stream",
     "text": [
      "0: (1+0j)  -> [0.70710678-0.j 0.70710678+0.j]\n",
      "1: (-1+0j) -> [ 0.70710678+0.j -0.70710678-0.j]\n"
     ]
    }
   ],
   "source": [
    "w, v = np.linalg.eig(pauli_X)\n",
    "v_0, v_1 = np.expand_dims(v, axis=-1)\n",
    "\n",
    "for i in range(w.shape[0]):\n",
    "    print (f\"{i}: {str(np.round(w[i],10)):7s} -> {v[:,i]}\")\n",
    "\n",
    "assert eq(abs(v_0.conj().T @ plus), 1)\n",
    "assert eq(abs(v_1.conj().T @ minus), 1)"
   ]
  },
  {
   "cell_type": "code",
   "execution_count": 11,
   "id": "3ae8e21d",
   "metadata": {},
   "outputs": [
    {
     "name": "stdout",
     "output_type": "stream",
     "text": [
      "0: (1+0j)  -> [-0.        -0.70710678j  0.70710678+0.j        ]\n",
      "1: (-1+0j) -> [0.70710678+0.j         0.        -0.70710678j]\n"
     ]
    }
   ],
   "source": [
    "w, v = np.linalg.eig(pauli_Y)\n",
    "v_0, v_1 = np.expand_dims(v, axis=-1)\n",
    "\n",
    "for i in range(w.shape[0]):\n",
    "    print (f\"{i}: {str(np.round(w[i],10)):7s} -> {v[:,i]}\")\n",
    "\n",
    "assert eq(abs(v_0.conj().T @ R), 1)\n",
    "assert eq(abs(v_1.conj().T @ L), 1)"
   ]
  },
  {
   "cell_type": "markdown",
   "id": "863a2a71",
   "metadata": {},
   "source": [
    "## Expectation value"
   ]
  },
  {
   "cell_type": "code",
   "execution_count": 12,
   "id": "ac6efb0e",
   "metadata": {},
   "outputs": [],
   "source": [
    "assert eq(basis_0.conj().T @ pauli_Z @ basis_0, 1)   # ⟨0|Z|0⟩ = 1\n",
    "assert eq(basis_1.conj().T @ pauli_Z @ basis_1, -1)  # ⟨1|Z|1⟩ = -1\n",
    "assert eq(plus.conj().T @ pauli_Z @ plus, 0)  # ⟨+|Z|+⟩ = 0\n",
    "assert eq(plus.conj().T @ pauli_X @ plus, 1)  # ⟨+|X|+⟩ = 1\n",
    "assert eq(R.conj().T @ pauli_Y @ R, 1)   # ⟨R|Y|R⟩ = 1"
   ]
  },
  {
   "cell_type": "markdown",
   "id": "2998eb26",
   "metadata": {},
   "source": [
    "## Projection operator"
   ]
  },
  {
   "cell_type": "code",
   "execution_count": 13,
   "id": "d5e5389b",
   "metadata": {},
   "outputs": [],
   "source": [
    "w, v = np.linalg.eig(pauli_Z)\n",
    "v_0, v_1 = np.expand_dims(v, axis=-1)\n",
    "\n",
    "proj_0 = v_0 @ v_0.T   \n",
    "proj_1 = v_1 @ v_1.T     "
   ]
  },
  {
   "cell_type": "code",
   "execution_count": 14,
   "id": "b204d5f6",
   "metadata": {},
   "outputs": [
    {
     "name": "stdout",
     "output_type": "stream",
     "text": [
      "[[0.5+0.j]] [[0.5+0.j]]\n"
     ]
    }
   ],
   "source": [
    "q = H @ basis_0\n",
    "\n",
    "p_0 = q.conj().T @ proj_0 @ q\n",
    "p_1 = q.conj().T @ proj_1 @ q\n",
    "\n",
    "print (p_0, p_1)"
   ]
  },
  {
   "cell_type": "markdown",
   "id": "1ff9b308",
   "metadata": {},
   "source": [
    "# Gates\n",
    "## T Gate"
   ]
  },
  {
   "cell_type": "code",
   "execution_count": 15,
   "id": "262c48e2",
   "metadata": {},
   "outputs": [],
   "source": [
    "T_gate = array([[1, 0],\n",
    "                [0, (1+1j)/V2]], dtype=complex)\n",
    "\n",
    "assert eq(T_gate.conj().T @ T_gate, np.eye(2))"
   ]
  },
  {
   "cell_type": "markdown",
   "id": "5b766ed7",
   "metadata": {},
   "source": [
    "## RY Gate"
   ]
  },
  {
   "cell_type": "code",
   "execution_count": 134,
   "id": "08ff82f9",
   "metadata": {},
   "outputs": [],
   "source": [
    "def ry(phi):\n",
    "    return array([\n",
    "        [np.cos(phi / 2), -np.sin(phi / 2)],\n",
    "        [np.sin(phi / 2),  np.cos(phi / 2)]\n",
    "    ], dtype=complex)\n",
    "\n",
    "assert eq(ry(np.pi) @ basis_0, basis_1)\n",
    "assert eq(ry(-np.pi) @ basis_1, basis_0)\n",
    "assert eq(ry(-np.pi/2) @ basis_0, minus)\n",
    "assert eq(ry(np.pi/2) @ basis_0, plus)\n"
   ]
  },
  {
   "cell_type": "code",
   "execution_count": 68,
   "id": "517ee37d",
   "metadata": {},
   "outputs": [],
   "source": [
    "random_state = np.array([0.42 + 0j, np.sqrt(1 - 0.42**2) + 0j]).reshape((2, 1))"
   ]
  },
  {
   "cell_type": "code",
   "execution_count": 88,
   "id": "cc9dbf5b",
   "metadata": {},
   "outputs": [],
   "source": [
    "def measurement(op):\n",
    "    return lambda state: state.conj().T @ op @ state"
   ]
  },
  {
   "cell_type": "code",
   "execution_count": 114,
   "id": "63c15545",
   "metadata": {},
   "outputs": [],
   "source": [
    "state  = array([[0.42 + 0j], [np.sqrt(1 - 0.42**2) + 0j]]) # random state\n",
    "assert eq(abs(state.conj().T @ state), 1)\n",
    "\n",
    "X = measurement(pauli_X)\n",
    "Y = measurement(pauli_Y)\n",
    "Z = measurement(pauli_Z)\n",
    "\n",
    "assert eq(X(state), X(ry(np.pi*2) @ state))\n",
    "assert eq(Z(state), Z(ry(np.pi*2) @ state))\n",
    "\n",
    "assert eq(X(plus), X(ry(np.pi/2) @ basis_0))\n",
    "assert eq(Z(plus), Z(ry(np.pi/2) @ basis_0))\n",
    "\n",
    "assert eq(X(minus), X(ry(-np.pi/2) @ basis_0))\n",
    "assert eq(Z(minus), Z(ry(-np.pi/2) @ basis_0))"
   ]
  },
  {
   "cell_type": "markdown",
   "id": "d366996e",
   "metadata": {},
   "source": [
    "## RZ Gate"
   ]
  },
  {
   "cell_type": "code",
   "execution_count": 135,
   "id": "c5030e0c",
   "metadata": {},
   "outputs": [],
   "source": [
    "def rz(phi):\n",
    "    return array([\n",
    "        [np.exp(-1j * phi / 2), 0],\n",
    "        [0,  np.exp(1j * phi / 2)]\n",
    "    ], dtype=complex)\n",
    "\n",
    "assert eq(X(rz(np.pi / 2) @ plus), X(R))\n",
    "assert eq(Y(rz(np.pi / 2) @ plus), Y(R))\n",
    "assert eq(Z(rz(np.pi / 2) @ plus), Z(R))\n"
   ]
  },
  {
   "cell_type": "markdown",
   "id": "3798fb8f",
   "metadata": {},
   "source": [
    "## RX Gate"
   ]
  },
  {
   "cell_type": "code",
   "execution_count": 170,
   "id": "19537634",
   "metadata": {},
   "outputs": [],
   "source": [
    "def rx(phi):\n",
    "    return array([\n",
    "        [np.cos(phi / 2), -1j * np.sin(phi / 2)],\n",
    "        [-1j * np.sin(phi / 2),  np.cos(phi / 2)]\n",
    "    ], dtype=complex)\n",
    "\n",
    "assert eq(X(rx(-np.pi/2) @ basis_0), X(R))\n",
    "assert eq(Y(rx(-np.pi/2) @ basis_0), Y(R))\n",
    "assert eq(Z(rx(-np.pi/2) @ basis_0), Z(R))\n",
    "\n",
    "assert eq(X(rx(np.pi/2) @ basis_0), X(L))\n",
    "assert eq(Y(rx(np.pi/2) @ basis_0), Y(L))\n",
    "assert eq(Z(rx(np.pi/2) @ basis_0), Z(L))\n"
   ]
  },
  {
   "cell_type": "code",
   "execution_count": 171,
   "id": "b5c4070f",
   "metadata": {},
   "outputs": [
    {
     "data": {
      "text/plain": [
       "False"
      ]
     },
     "execution_count": 171,
     "metadata": {},
     "output_type": "execute_result"
    }
   ],
   "source": [
    "eq(rx(np.pi) @ ry(np.pi/2), H)"
   ]
  },
  {
   "cell_type": "code",
   "execution_count": 173,
   "id": "0afb61d2",
   "metadata": {},
   "outputs": [
    {
     "data": {
      "text/plain": [
       "array([[ 0.70710678+0.j, -0.70710678+0.j],\n",
       "       [ 0.70710678+0.j,  0.70710678+0.j]])"
      ]
     },
     "execution_count": 173,
     "metadata": {},
     "output_type": "execute_result"
    }
   ],
   "source": [
    "ry(np.pi/2)"
   ]
  }
 ],
 "metadata": {
  "kernelspec": {
   "display_name": "Python 3 (ipykernel)",
   "language": "python",
   "name": "python3"
  },
  "language_info": {
   "codemirror_mode": {
    "name": "ipython",
    "version": 3
   },
   "file_extension": ".py",
   "mimetype": "text/x-python",
   "name": "python",
   "nbconvert_exporter": "python",
   "pygments_lexer": "ipython3",
   "version": "3.8.12"
  }
 },
 "nbformat": 4,
 "nbformat_minor": 5
}
