{
 "cells": [
  {
   "cell_type": "code",
   "execution_count": 1,
   "id": "54920a0d",
   "metadata": {},
   "outputs": [],
   "source": [
    "import numpy as np\n",
    "from numpy import allclose as eq, conj, array\n",
    "\n",
    "V2 = np.sqrt(2)"
   ]
  },
  {
   "cell_type": "markdown",
   "id": "0fdfd663",
   "metadata": {},
   "source": [
    "# Basis"
   ]
  },
  {
   "cell_type": "code",
   "execution_count": 29,
   "id": "c01e28b0",
   "metadata": {},
   "outputs": [],
   "source": [
    "basis_0 = array([[1, 0]], dtype=complex).T / V2\n",
    "basis_1 = array([[0, 1]], dtype=complex).T / V2"
   ]
  },
  {
   "cell_type": "code",
   "execution_count": 32,
   "id": "88ebdeec",
   "metadata": {},
   "outputs": [],
   "source": [
    "plus = (basis_0 + basis_1) / V2\n",
    "minus = (basis_0 - basis_1) / V2"
   ]
  },
  {
   "cell_type": "code",
   "execution_count": 33,
   "id": "1dbdc380",
   "metadata": {},
   "outputs": [],
   "source": [
    "R = (basis_0 + 1j * basis_1) / V2\n",
    "L = (basis_0 - 1j * basis_1) / V2"
   ]
  },
  {
   "cell_type": "code",
   "execution_count": 34,
   "id": "1a9e1b16",
   "metadata": {},
   "outputs": [],
   "source": [
    "assert eq(conj(basis_0).T @ basis_1, 0)\n",
    "assert eq(conj(plus).T @ minus, 0)\n",
    "assert eq(conj(R).T @ L, 0)"
   ]
  },
  {
   "cell_type": "markdown",
   "id": "c8dc6123",
   "metadata": {},
   "source": [
    "# Hadamard Gate"
   ]
  },
  {
   "cell_type": "code",
   "execution_count": 35,
   "id": "a0d9f10e",
   "metadata": {},
   "outputs": [],
   "source": [
    "H = array([[1, 1],\n",
    "           [1, -1]], dtype=complex) / V2"
   ]
  },
  {
   "cell_type": "code",
   "execution_count": 36,
   "id": "939dce2e",
   "metadata": {},
   "outputs": [],
   "source": [
    "assert eq(conj(H) @ H, np.eye(2))\n",
    "assert eq(H @ basis_0, plus)\n",
    "assert eq(H @ plus, basis_0)"
   ]
  },
  {
   "cell_type": "markdown",
   "id": "8bc85bd9",
   "metadata": {},
   "source": [
    "# Pauli Matrices"
   ]
  },
  {
   "cell_type": "code",
   "execution_count": 37,
   "id": "75a8e3ab",
   "metadata": {},
   "outputs": [],
   "source": [
    "pauli_X = array([[0, 1],\n",
    "                 [1, 0]], dtype=complex)\n",
    "\n",
    "pauli_Y = array([[0, -1j],\n",
    "                 [1j, 0]], dtype=complex)\n",
    "\n",
    "pauli_Z = array([[1, 0],\n",
    "                 [0, -1]], dtype=complex)"
   ]
  },
  {
   "cell_type": "markdown",
   "id": "c3beb15c",
   "metadata": {},
   "source": [
    "# Measurements"
   ]
  },
  {
   "cell_type": "code",
   "execution_count": 38,
   "id": "f20615b4",
   "metadata": {},
   "outputs": [
    {
     "data": {
      "text/plain": [
       "array([ 1.+0.j, -1.+0.j])"
      ]
     },
     "execution_count": 38,
     "metadata": {},
     "output_type": "execute_result"
    }
   ],
   "source": [
    "np.linalg.eig(pauli_Z)[0]"
   ]
  },
  {
   "cell_type": "code",
   "execution_count": 39,
   "id": "5dca11f4",
   "metadata": {},
   "outputs": [
    {
     "data": {
      "text/plain": [
       "(array([ 1.+0.j, -1.+0.j]),\n",
       " array([[1.+0.j, 0.+0.j],\n",
       "        [0.+0.j, 1.+0.j]]))"
      ]
     },
     "execution_count": 39,
     "metadata": {},
     "output_type": "execute_result"
    }
   ],
   "source": [
    "np.linalg.eig(pauli_Z)"
   ]
  },
  {
   "cell_type": "code",
   "execution_count": null,
   "id": "26adea67",
   "metadata": {},
   "outputs": [],
   "source": []
  }
 ],
 "metadata": {
  "kernelspec": {
   "display_name": "Python 3 (ipykernel)",
   "language": "python",
   "name": "python3"
  },
  "language_info": {
   "codemirror_mode": {
    "name": "ipython",
    "version": 3
   },
   "file_extension": ".py",
   "mimetype": "text/x-python",
   "name": "python",
   "nbconvert_exporter": "python",
   "pygments_lexer": "ipython3",
   "version": "3.8.12"
  }
 },
 "nbformat": 4,
 "nbformat_minor": 5
}
