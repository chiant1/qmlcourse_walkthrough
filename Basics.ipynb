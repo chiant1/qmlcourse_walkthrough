{
 "cells": [
  {
   "cell_type": "code",
   "execution_count": 1,
   "id": "54920a0d",
   "metadata": {},
   "outputs": [],
   "source": [
    "import numpy as np\n",
    "from numpy import allclose as eq, conj, array, complex128\n",
    "\n",
    "V2 = np.sqrt(2)"
   ]
  },
  {
   "cell_type": "markdown",
   "id": "0fdfd663",
   "metadata": {},
   "source": [
    "# Basis"
   ]
  },
  {
   "cell_type": "code",
   "execution_count": 2,
   "id": "c01e28b0",
   "metadata": {},
   "outputs": [],
   "source": [
    "basis_0 = array([[1, 0]], dtype=complex).T\n",
    "basis_1 = array([[0, 1]], dtype=complex).T"
   ]
  },
  {
   "cell_type": "code",
   "execution_count": 3,
   "id": "88ebdeec",
   "metadata": {},
   "outputs": [],
   "source": [
    "plus = (basis_0 + basis_1) / V2\n",
    "minus = (basis_0 - basis_1) / V2"
   ]
  },
  {
   "cell_type": "code",
   "execution_count": 4,
   "id": "1dbdc380",
   "metadata": {},
   "outputs": [],
   "source": [
    "R = (basis_0 + 1j * basis_1) / V2\n",
    "L = (basis_0 - 1j * basis_1) / V2"
   ]
  },
  {
   "cell_type": "code",
   "execution_count": 5,
   "id": "1a9e1b16",
   "metadata": {},
   "outputs": [],
   "source": [
    "assert eq(conj(basis_0).T @ basis_1, 0)\n",
    "assert eq(conj(plus).T @ minus, 0)\n",
    "assert eq(conj(R).T @ L, 0)"
   ]
  },
  {
   "cell_type": "markdown",
   "id": "c8dc6123",
   "metadata": {},
   "source": [
    "# Hadamard Gate"
   ]
  },
  {
   "cell_type": "code",
   "execution_count": 6,
   "id": "a0d9f10e",
   "metadata": {},
   "outputs": [],
   "source": [
    "H = array([[1, 1],\n",
    "           [1, -1]], dtype=complex128) / V2"
   ]
  },
  {
   "cell_type": "code",
   "execution_count": 7,
   "id": "939dce2e",
   "metadata": {},
   "outputs": [],
   "source": [
    "assert eq(conj(H) @ H, np.eye(2))\n",
    "assert eq(H @ basis_0, plus)\n",
    "assert eq(H @ plus, basis_0)"
   ]
  },
  {
   "cell_type": "markdown",
   "id": "8bc85bd9",
   "metadata": {},
   "source": [
    "# Pauli Matrices"
   ]
  },
  {
   "cell_type": "code",
   "execution_count": 8,
   "id": "75a8e3ab",
   "metadata": {},
   "outputs": [],
   "source": [
    "pauli_X = array([[0, 1],\n",
    "                 [1, 0]], dtype=complex)\n",
    "\n",
    "pauli_Y = array([[0, -1j],\n",
    "                 [1j, 0]], dtype=complex)\n",
    "\n",
    "pauli_Z = array([[1, 0],\n",
    "                 [0, -1]], dtype=complex)"
   ]
  },
  {
   "cell_type": "markdown",
   "id": "c3beb15c",
   "metadata": {},
   "source": [
    "# Measurements"
   ]
  },
  {
   "cell_type": "code",
   "execution_count": 9,
   "id": "525f4384",
   "metadata": {},
   "outputs": [
    {
     "name": "stdout",
     "output_type": "stream",
     "text": [
      "0: (1+0j)  -> [1.+0.j 0.+0.j]\n",
      "1: (-1+0j) -> [0.+0.j 1.+0.j]\n"
     ]
    }
   ],
   "source": [
    "w, v = np.linalg.eig(pauli_Z)\n",
    "for i in range(w.shape[0]):\n",
    "    print (f\"{i}: {str(np.round(w[i],10)):7s} -> {v[:,i]}\")\n",
    "    \n",
    "assert eq(v[:,0:1], basis_0)\n",
    "assert eq(v[:,1:2], basis_1)"
   ]
  },
  {
   "cell_type": "code",
   "execution_count": 10,
   "id": "f20615b4",
   "metadata": {},
   "outputs": [
    {
     "name": "stdout",
     "output_type": "stream",
     "text": [
      "0: (1+0j)  -> [0.70710678-0.j 0.70710678+0.j]\n",
      "1: (-1+0j) -> [ 0.70710678+0.j -0.70710678-0.j]\n"
     ]
    }
   ],
   "source": [
    "w, v = np.linalg.eig(pauli_X)\n",
    "for i in range(w.shape[0]):\n",
    "    print (f\"{i}: {str(np.round(w[i],10)):7s} -> {v[:,i]}\")\n",
    "    \n",
    "assert eq(v[:,0:1], plus)\n",
    "assert eq(v[:,1:2], minus)"
   ]
  },
  {
   "cell_type": "code",
   "execution_count": 21,
   "id": "3ae8e21d",
   "metadata": {},
   "outputs": [
    {
     "name": "stdout",
     "output_type": "stream",
     "text": [
      "0: (1+0j)  -> [-0.        -0.70710678j  0.70710678+0.j        ]\n",
      "1: (-1+0j) -> [0.70710678+0.j         0.        -0.70710678j]\n"
     ]
    }
   ],
   "source": [
    "w, v = np.linalg.eig(pauli_Y)\n",
    "for i in range(w.shape[0]):\n",
    "    print (f\"{i}: {str(np.round(w[i],10)):7s} -> {v[:,i]}\")\n",
    "\n",
    "# TODO: Why first eigenvector for Pauli Y is not exactly R, but R'\n",
    "# R' = |1⟩ - i|0⟩ = i(|0⟩ + i|1⟩)\n",
    "# R  = |0⟩ + i|1⟩\n",
    "\n",
    "R1 = (basis_1 - 1j * basis_0) / V2\n",
    "\n",
    "assert eq(v[:,0:1], R1)\n",
    "assert eq(v[:,1:2], L)\n",
    "assert eq(R1 * 1j, R)"
   ]
  },
  {
   "cell_type": "code",
   "execution_count": null,
   "id": "c1dfd783",
   "metadata": {},
   "outputs": [],
   "source": []
  }
 ],
 "metadata": {
  "kernelspec": {
   "display_name": "Python 3 (ipykernel)",
   "language": "python",
   "name": "python3"
  },
  "language_info": {
   "codemirror_mode": {
    "name": "ipython",
    "version": 3
   },
   "file_extension": ".py",
   "mimetype": "text/x-python",
   "name": "python",
   "nbconvert_exporter": "python",
   "pygments_lexer": "ipython3",
   "version": "3.8.12"
  }
 },
 "nbformat": 4,
 "nbformat_minor": 5
}
